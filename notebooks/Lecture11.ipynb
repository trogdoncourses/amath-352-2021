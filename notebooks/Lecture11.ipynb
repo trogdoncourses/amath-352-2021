{
 "cells": [
  {
   "cell_type": "markdown",
   "metadata": {},
   "source": [
    "# Lecture 11\n",
    "\n",
    "\n",
    "### More iterative methods\n",
    "\n",
    "Lecture notes [here](https://drive.google.com/file/d/1nOb-FEG-tS6_7J7qIcBoL7hRIz62l7Gq/view?usp=sharing)."
   ]
  },
  {
   "cell_type": "markdown",
   "metadata": {},
   "source": [
    "## The Gauss-Seidel Algorithm\n",
    "\n",
    "Our goal is still to solve but now we include more in our inverse:\n",
    "$$ A\\vec x = \\vec b$$\n",
    "$$ (L + D + U) \\vec x = \\vec b$$\n",
    "$$ (U + D)^{-1}( L + D + U) \\vec x = (U + D)^{-1}\\vec b$$\n",
    "$$ \\vec x + (U + D)^{-1}U \\vec x = (U + D)^{-1}\\vec b$$\n",
    "\n",
    "So, we can now attempt to apply the matrix iteration with $M = - (U + D)^{-1}U$ and $\\vec b$ replaced with $(U + D)^{-1}\\vec b$.\n",
    "\n",
    "This is the Gauss-Seidel algorithm.  But some care should be taken on the implementation:\n",
    "\n",
    "```\n",
    "INPUT: An n x n matrix A, an n x 1 vector b, an error tolerance err, a maximum number of steps K\n",
    "OUPUT: An approximation of the solution of A*x = b\n",
    "\n",
    "STEP 1: Set y = zeros(n,1)\n",
    "STEP 2: Set L = tril(A,-1); U = triu(A,1); D = diag(A);\n",
    "STEP 3: Set c = (U+D)^{-1} b\n",
    "STEP 4: For i = 1 to T do STEPS 5-7\n",
    "    STEP 5: Set z = U*y\n",
    "    STEP 6: Set z = (U+D)^{-1}(b-z)\n",
    "    STEP 7:If max(abs(y-z)) < err\n",
    "        y = z\n",
    "        OUTPUT(y)\n",
    "    STEP 8: Set y = z\n",
    "STEP 9: If i == T\n",
    "    PRINT(\"Error tolerance not acheived\")\n",
    "    OUTPUT(y)\n",
    "```"
   ]
  },
  {
   "cell_type": "code",
   "execution_count": 1,
   "metadata": {},
   "outputs": [],
   "source": [
    "A = diag([1,2,3,4,5]) + .1*randn(5);\n",
    "UpD = triu(A);\n",
    "L = tril(A,-1);\n",
    "b = [1,1,1,1,1]';\n",
    "y = zeros(5,1);"
   ]
  },
  {
   "cell_type": "code",
   "execution_count": 2,
   "metadata": {},
   "outputs": [
    {
     "name": "stdout",
     "output_type": "stream",
     "text": [
      "\n",
      "UpD =\n",
      "\n",
      "    1.0538   -0.1308   -0.1350   -0.0205    0.0671\n",
      "         0    1.9566    0.3035   -0.0124   -0.1207\n",
      "         0         0    3.0725    0.1490    0.0717\n",
      "         0         0         0    4.1409    0.1630\n",
      "         0         0         0         0    5.0489\n",
      "\n"
     ]
    }
   ],
   "source": [
    "UpD"
   ]
  },
  {
   "cell_type": "code",
   "execution_count": 3,
   "metadata": {},
   "outputs": [
    {
     "name": "stdout",
     "output_type": "stream",
     "text": [
      "\n",
      "L =\n",
      "\n",
      "         0         0         0         0         0\n",
      "    0.1834         0         0         0         0\n",
      "   -0.2259    0.0343         0         0         0\n",
      "    0.0862    0.3578   -0.0063         0         0\n",
      "    0.0319    0.2769    0.0715    0.1417         0\n",
      "\n"
     ]
    }
   ],
   "source": [
    "L"
   ]
  },
  {
   "cell_type": "markdown",
   "metadata": {},
   "source": [
    "Note that we could easily replace $U + D$ with $L + D$ in the code, and then do forward substitution.  We would have to modify our `Forsub` routine because that assumes the lower-triangular matrix has zeros on the diagonal."
   ]
  },
  {
   "cell_type": "code",
   "execution_count": 11,
   "metadata": {},
   "outputs": [
    {
     "name": "stdout",
     "output_type": "stream",
     "text": [
      "\n",
      "y =\n",
      "\n",
      "   1.036923173017289\n",
      "   0.365262497211924\n",
      "   0.385013333731710\n",
      "   0.182590623033580\n",
      "   0.160905522918324\n",
      "\n"
     ]
    }
   ],
   "source": [
    "% compute y = -(L+D)^{-1}Uy + (L+D)^{-1}b\n",
    "format long\n",
    "y = L*y;\n",
    "y = Backsub([UpD,b-y])"
   ]
  },
  {
   "cell_type": "code",
   "execution_count": 12,
   "metadata": {},
   "outputs": [
    {
     "name": "stdout",
     "output_type": "stream",
     "text": [
      "\n",
      "ans =\n",
      "\n",
      "   1.0e-09 *\n",
      "\n",
      "                   0\n",
      "   0.047716719464574\n",
      "  -0.073087869090216\n",
      "  -0.127343247058320\n",
      "  -0.306138892014474\n",
      "\n"
     ]
    }
   ],
   "source": [
    "A*y-b"
   ]
  },
  {
   "cell_type": "markdown",
   "metadata": {},
   "source": [
    "## Compare the Jacobi and Gauss-Seidel algorithms"
   ]
  },
  {
   "cell_type": "code",
   "execution_count": 13,
   "metadata": {},
   "outputs": [],
   "source": [
    "A = diag([1,2,3,4,5]) + .1*randn(5);\n",
    "L = tril(A,-1);\n",
    "U = triu(A,+1);\n",
    "D = diag(A);\n",
    "LpU = L + U; % L + U\n",
    "UpD = triu(A);\n",
    "b = [1,1,1,1,1]';\n",
    "\n",
    "y_gs = zeros(5,1);\n",
    "y_j = zeros(5,1);\n",
    "format long\n",
    "x = A\\b;  % solves Ax = b"
   ]
  },
  {
   "cell_type": "code",
   "execution_count": 24,
   "metadata": {},
   "outputs": [
    {
     "name": "stdout",
     "output_type": "stream",
     "text": [
      "\n",
      "y_j =\n",
      "\n",
      "   0.821994865082104\n",
      "   0.497703662514302\n",
      "   0.360684142087404\n",
      "   0.232939927529233\n",
      "   0.253012897564253\n",
      "\n",
      "\n",
      "y_gs =\n",
      "\n",
      "   0.821994865082184\n",
      "   0.497703662514338\n",
      "   0.360684142087428\n",
      "   0.232939927529288\n",
      "   0.253012897564216\n",
      "\n",
      "\n",
      "ans =\n",
      "\n",
      "   1.0e-13 *\n",
      "\n",
      "  -0.802691246803988  -0.001110223024625\n",
      "  -0.359712259978551                   0\n",
      "  -0.241473507855972                   0\n",
      "  -0.547617506896358   0.000277555756156\n",
      "   0.374700270810990   0.000555111512313\n",
      "\n"
     ]
    }
   ],
   "source": [
    "y_j = LpU*y_j;\n",
    "y_j = (b-y_j)./D\n",
    "y_gs = L*y_gs;\n",
    "y_gs = Backsub([UpD,b-y_gs])\n",
    "[y_j-x,y_gs-x]"
   ]
  },
  {
   "cell_type": "code",
   "execution_count": 25,
   "metadata": {},
   "outputs": [],
   "source": [
    "A = diag([1,2,3,4,5]) + .1*randn(5);\n",
    "L = tril(A,-1);\n",
    "U = triu(A,+1);\n",
    "D = diag(A);\n",
    "LpU = L + U; % L + U\n",
    "UpD = triu(A);\n",
    "b = [1,1,1,1,1]';\n",
    "\n",
    "y_gs = zeros(5,1);\n",
    "y_j = zeros(5,1);\n",
    "format long\n",
    "x = A\\b;  % solves Ax = b"
   ]
  },
  {
   "cell_type": "code",
   "execution_count": 26,
   "metadata": {
    "scrolled": false
   },
   "outputs": [
    {
     "data": {
      "image/png": "[encoded data removed]",
      "text/plain": [
       "<IPython.core.display.Image object>"
      ]
     },
     "metadata": {},
     "output_type": "display_data"
    }
   ],
   "source": [
    "T = 10;\n",
    "err_gs = zeros(1,T);\n",
    "err_j = zeros(1,T);\n",
    "\n",
    "for i = 1:T\n",
    "    y_j = LpU*y_j;\n",
    "    y_j = (b-y_j)./D ;\n",
    "    y_gs = L*y_gs;\n",
    "    y_gs = Backsub([UpD,b-y_gs]);\n",
    "    err_gs(i) = max(abs(y_gs-x));\n",
    "    err_j(i) = max(abs(y_j-x));\n",
    "end\n",
    "semilogy(1:T,err_gs,'r')\n",
    "hold on\n",
    "grid on\n",
    "semilogy(1:T,err_j,'g')\n",
    "legend('Gauss-Seidel','Jacobi')\n",
    "xlabel('Iteration number')\n",
    "ylabel('Error')"
   ]
  },
  {
   "cell_type": "markdown",
   "metadata": {},
   "source": [
    "## A computational subtlety \n",
    "\n",
    "When we multply by $L$ in the Gauss-Seidel algorithm, $L$ has a lot of zeros.  So, we should be tempted to make use of this structure so that we can do fewer multiplications and additions.  In theory this is a good idea and if you were developing low-level code in C or Fortran, you should probably be doing this.  But as we can see in the following example, coding it ourselves does not save time."
   ]
  },
  {
   "cell_type": "code",
   "execution_count": 28,
   "metadata": {},
   "outputs": [
    {
     "name": "stdout",
     "output_type": "stream",
     "text": [
      "Elapsed time is 0.002123 seconds.\n",
      "Elapsed time is 0.035343 seconds.\n"
     ]
    }
   ],
   "source": [
    "n = 2000; L = tril(randn(n,n),-1); b = randn(n,1);\n",
    "tic();\n",
    "L*b;\n",
    "toc();\n",
    "tic();\n",
    "multL(L,b);\n",
    "toc();"
   ]
  },
  {
   "cell_type": "markdown",
   "metadata": {},
   "source": [
    "## Convergence\n",
    "\n",
    "A fundamental question is \"When does Jacobi's algorithm/the Gauss-Seidel algorithm work?\" A more mathematical way to phrase this is, under what conditions on $A$ does\n",
    "$$\n",
    "\\lim_{k \\to \\infty} \\vec x_k = \\vec x, \\quad A \\vec x = \\vec b.\n",
    "$$\n",
    "\n",
    "#### Definition\n",
    "\n",
    "An $n \\times n$ matrix $A$ is said to be __diagonally dominant__ if\n",
    "\n",
    "$$ |a_{ii}| > \\sum_{j=1,~~i\\neq j}^n |a_{ij}|, ~~\\text{for all}~~ 1 \\leq i \\leq n.$$\n",
    "\n",
    "#### Theorem\n",
    "\n",
    "Jacobi's method and the Gauss-Seidel method converge if $A$ is __diagonally dominant__."
   ]
  }
 ],
 "metadata": {
  "kernelspec": {
   "display_name": "Matlab",
   "language": "matlab",
   "name": "matlab"
  },
  "language_info": {
   "codemirror_mode": "octave",
   "file_extension": ".m",
   "help_links": [
    {
     "text": "MetaKernel Magics",
     "url": "https://metakernel.readthedocs.io/en/latest/source/README.html"
    }
   ],
   "mimetype": "text/x-octave",
   "name": "matlab",
   "version": "0.16.11"
  }
 },
 "nbformat": 4,
 "nbformat_minor": 2
}
