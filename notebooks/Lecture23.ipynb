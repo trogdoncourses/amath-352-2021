{
 "cells": [
  {
   "cell_type": "markdown",
   "metadata": {},
   "source": [
    "# Lecture 23\n",
    "\n",
    "\n",
    "### Underdetermined linear systems\n",
    "\n",
    "[notes](https://drive.google.com/file/d/1sW1sAYc7K0Q0fHTeEOLmZ9ZZVclO6EmI/view?usp=sharing)"
   ]
  },
  {
   "cell_type": "markdown",
   "metadata": {
    "slideshow": {
     "slide_type": "slide"
    }
   },
   "source": [
    "## A cautionary tale for MATLAB's guessing"
   ]
  },
  {
   "cell_type": "code",
   "execution_count": 26,
   "metadata": {},
   "outputs": [],
   "source": [
    "A = randn(10,6);\n",
    "b = randn(10,1);\n",
    "x = zeros(6);"
   ]
  },
  {
   "cell_type": "code",
   "execution_count": 38,
   "metadata": {},
   "outputs": [
    {
     "name": "stdout",
     "output_type": "stream",
     "text": [
      "Warning: Matrix is singular to working precision.\n",
      "\n"
     ]
    }
   ],
   "source": [
    "y = A'*b - A'*(A*x);\n",
    "v = A*y;\n",
    "h = (y'*y)/(v'*v);"
   ]
  },
  {
   "cell_type": "markdown",
   "metadata": {
    "slideshow": {
     "slide_type": "slide"
    }
   },
   "source": [
    "## A cautionary tale for the normal equations\n",
    "\n",
    "To minimize\n",
    "\n",
    "$$ \\|A \\vec y - \\vec b \\|_2^2 + \\lambda \\|\\vec y \\|_2^2, \\quad \\lambda = 10^{-16}$$"
   ]
  },
  {
   "cell_type": "code",
   "execution_count": 55,
   "metadata": {},
   "outputs": [],
   "source": [
    "A = randn(4,10); b = randn(4,1);\n",
    "An = [ 1e-8*eye(10); A];\n",
    "bn = [ zeros(10,1); b];"
   ]
  },
  {
   "cell_type": "code",
   "execution_count": 51,
   "metadata": {},
   "outputs": [
    {
     "name": "stdout",
     "output_type": "stream",
     "text": [
      "\n",
      "ans =\n",
      "\n",
      "  -0.374162336527059\n",
      "  -0.725925472907776\n",
      "  -0.304243712255422\n",
      "  -0.377124915445571\n",
      "   0.101047611754736\n",
      "   0.449085092446448\n",
      "  -0.247460507782943\n",
      "   0.673961644951171\n",
      "  -0.259743496234919\n",
      "   0.618693041065650\n",
      "\n"
     ]
    }
   ],
   "source": [
    "(An'*An)\\(An'*bn)"
   ]
  },
  {
   "cell_type": "markdown",
   "metadata": {},
   "source": [
    "New normal equations with $\\gamma = 10^{-16}$"
   ]
  },
  {
   "cell_type": "code",
   "execution_count": 52,
   "metadata": {},
   "outputs": [
    {
     "name": "stdout",
     "output_type": "stream",
     "text": [
      "\n",
      "ans =\n",
      "\n",
      "     4\n",
      "\n"
     ]
    }
   ],
   "source": [
    "format long; rank(A'*A)"
   ]
  },
  {
   "cell_type": "code",
   "execution_count": 53,
   "metadata": {},
   "outputs": [
    {
     "name": "stdout",
     "output_type": "stream",
     "text": [
      "\n",
      "ans =\n",
      "\n",
      "    10    10\n",
      "\n"
     ]
    }
   ],
   "source": [
    "size(An'*An)"
   ]
  },
  {
   "cell_type": "code",
   "execution_count": 56,
   "metadata": {},
   "outputs": [
    {
     "name": "stdout",
     "output_type": "stream",
     "text": [
      "\n",
      "ans =\n",
      "\n",
      "     4\n",
      "\n"
     ]
    }
   ],
   "source": [
    "rank(An'*An)"
   ]
  },
  {
   "cell_type": "code",
   "execution_count": 58,
   "metadata": {},
   "outputs": [
    {
     "name": "stdout",
     "output_type": "stream",
     "text": [
      "\n",
      "ans =\n",
      "\n",
      "     9.661765613766217e-16\n",
      "\n"
     ]
    }
   ],
   "source": [
    "norm(An'*An - A'*A)"
   ]
  },
  {
   "cell_type": "code",
   "execution_count": 59,
   "metadata": {},
   "outputs": [
    {
     "name": "stdout",
     "output_type": "stream",
     "text": [
      "Warning: Matrix is close to singular or badly scaled. Results may be inaccurate. RCOND =  8.411115e-19.\n",
      "\n",
      "\n",
      "ans =\n",
      "\n",
      "   0.475398978202305\n",
      "   0.382061257980468\n",
      "   1.016800178663588\n",
      "  -0.682207279721434\n",
      "  -0.459538058525725\n",
      "  -0.208791290440113\n",
      "   0.028311765113459\n",
      "  -0.868950972021673\n",
      "  -0.225048019101538\n",
      "  -0.092362791906641\n",
      "\n"
     ]
    }
   ],
   "source": [
    "(A'*A)\\(A'*b)"
   ]
  },
  {
   "cell_type": "markdown",
   "metadata": {},
   "source": [
    "## The solution here is to avoid the normal equations and use the QR method!!!!"
   ]
  },
  {
   "cell_type": "markdown",
   "metadata": {},
   "source": [
    "## An application\n",
    "\n",
    "Suppose your rock company produces\n",
    "\n",
    "* 20 tons of road base (RB) per day \n",
    "* 10 tons of sand (S) per day\n",
    "* 10 tons of gravel (G) per day\n",
    "\n",
    "You have 4 types of equipment and you are wondering how to increase production by approximately 50% while attempting to buy/sell as little equipment as possible.\n",
    "\n",
    "Equipment:\n",
    "\n",
    "As a simplification, the estimated production of each type of equipment per hour is caputed in a vector\n",
    "$$ \\begin{pmatrix} \\text{RG per day} \\\\ \\text{S per day} \\\\ \\text{G per day} \\end{pmatrix}.$$\n",
    "\n",
    "* Truck:  1 hour produces $$ \\begin{pmatrix} 0 \\\\ 0 \\\\ 1 \\end{pmatrix} $$\n",
    "* Shovel A:  1 hour produces $$ \\begin{pmatrix} 0 \\\\ 2 \\\\ 1 \\end{pmatrix} $$\n",
    "* Mixer:  1 hour produces $$ \\begin{pmatrix} 1 \\\\ -1/2 \\\\ -1/2 \\end{pmatrix} $$\n",
    "* Shovel B:  1 hour produces $$ \\begin{pmatrix} 0 \\\\ 1 \\\\ 1 \\end{pmatrix} $$\n",
    "\n",
    "We will also assume that every type of equipment costs the same amount."
   ]
  },
  {
   "cell_type": "markdown",
   "metadata": {},
   "source": [
    "The current operations can be captured as a vector $\\vec x$ such that\n",
    "$$ \\begin{pmatrix} 0 & 0 & 1 & 0 \\\\ 0 & 2 & -1/2 & 1 \\\\ 1 & 1 & -1/2 & 1 \\end{pmatrix} \\vec x = \\begin{pmatrix} 20 \\\\ 10 \\\\10\\end{pmatrix} $$\n",
    "We are looking for a new vector $\\vec x_{\\text{new}}$ such that\n",
    "$$ \\begin{pmatrix} 0 & 0 & 1 & 0 \\\\ 0 & 2 & -1/2 & 1 \\\\ 1 & 1 & -1/2 & 1 \\end{pmatrix} \\vec x_{\\text{new}} \\approx \\begin{pmatrix} 30 \\\\ 15 \\\\15\\end{pmatrix} $$"
   ]
  },
  {
   "cell_type": "markdown",
   "metadata": {},
   "source": [
    "To minimized the buying and selling of equipment, we want to keep $\\vec x - \\vec x_{\\text{new}}$ small.  Note that\n",
    "$$ \\begin{pmatrix} 0 & 0 & 1 & 0 \\\\ 0 & 2 & -1/2 & 1 \\\\ 1 & 1 & -1/2 & 1 \\end{pmatrix} (\\vec x_{\\text{new}} - \\vec x) \\approx \\begin{pmatrix} 10 \\\\ 5 \\\\ 5\\end{pmatrix}$$\n",
    "\n",
    "So we look to minimize\n",
    "$$ \\| A \\vec y - \\vec b \\|_2^2 + \\|\\vec y\\|_2^2$$\n",
    "where\n",
    "$$ A = \\begin{pmatrix} 0 & 0 & 1 & 0 \\\\ 0 & 2 & -1/2 & 1 \\\\ 1 & 1 & -1/2 & 1 \\end{pmatrix}, \\quad \\vec b= \\begin{pmatrix} 10 \\\\ 5 \\\\ 5\\end{pmatrix},$$\n",
    "to find $d\\vec x = x_{\\text{new}} - \\vec x$."
   ]
  },
  {
   "cell_type": "code",
   "execution_count": null,
   "metadata": {},
   "outputs": [],
   "source": [
    "A = [0 0 1 0; 0 2 -.5 1; 1 1 -.5 1]; b = [10; 5; 5];"
   ]
  },
  {
   "cell_type": "code",
   "execution_count": null,
   "metadata": {},
   "outputs": [],
   "source": [
    "An = [ eye(4) ; A]; bn = [zeros(4,1);b];  % eye(4) could change depending on relative\n",
    "% costs of each type of machine"
   ]
  },
  {
   "cell_type": "code",
   "execution_count": null,
   "metadata": {},
   "outputs": [],
   "source": [
    "dx = (An'*An)\\(An'*bn)"
   ]
  },
  {
   "cell_type": "code",
   "execution_count": null,
   "metadata": {},
   "outputs": [],
   "source": [
    "[~,R] = House([An,bn])"
   ]
  },
  {
   "cell_type": "code",
   "execution_count": null,
   "metadata": {},
   "outputs": [],
   "source": [
    "dx = Backsub(R(1:4,:))"
   ]
  },
  {
   "cell_type": "code",
   "execution_count": null,
   "metadata": {},
   "outputs": [],
   "source": [
    "sqrt(norm(A*dx-b)^2 + norm(dx)^2)"
   ]
  },
  {
   "cell_type": "markdown",
   "metadata": {},
   "source": [
    "The change in production is given by:"
   ]
  },
  {
   "cell_type": "code",
   "execution_count": null,
   "metadata": {},
   "outputs": [],
   "source": [
    "A*dx"
   ]
  },
  {
   "cell_type": "markdown",
   "metadata": {},
   "source": [
    "This does not seem like a big enough increase in production of road base.  So we change the optimization:"
   ]
  },
  {
   "cell_type": "code",
   "execution_count": null,
   "metadata": {},
   "outputs": [],
   "source": [
    "An = [ eye(4) ; A]; bn = [zeros(4,1);b];\n",
    "[~,R] = House([An,bn]);\n",
    "dx = Backsub(R(1:4,:))\n",
    "extra_production = A*dx\n",
    "needed_equipment = sum(dx)"
   ]
  },
  {
   "cell_type": "code",
   "execution_count": null,
   "metadata": {},
   "outputs": [],
   "source": [
    "An = [ .5*eye(4) ; A]; bn = [zeros(4,1);b];\n",
    "[~,R] = House([An,bn]);\n",
    "dx = Backsub(R(1:4,:))\n",
    "extra_production = A*dx\n",
    "needed_equipment = sum(dx)"
   ]
  },
  {
   "cell_type": "markdown",
   "metadata": {},
   "source": [
    "This can help give us a clear view of the trade-offs of different solutions"
   ]
  }
 ],
 "metadata": {
  "kernelspec": {
   "display_name": "Matlab",
   "language": "matlab",
   "name": "matlab"
  },
  "language_info": {
   "codemirror_mode": "octave",
   "file_extension": ".m",
   "help_links": [
    {
     "text": "MetaKernel Magics",
     "url": "https://metakernel.readthedocs.io/en/latest/source/README.html"
    }
   ],
   "mimetype": "text/x-octave",
   "name": "matlab",
   "version": "0.16.11"
  }
 },
 "nbformat": 4,
 "nbformat_minor": 2
}
