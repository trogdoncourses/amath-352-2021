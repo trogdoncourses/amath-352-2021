{
 "cells": [
  {
   "cell_type": "markdown",
   "metadata": {},
   "source": [
    "# Lecture 25\n",
    "\n",
    "## Olver & Shakiban Section 8.2 "
   ]
  },
  {
   "cell_type": "markdown",
   "metadata": {},
   "source": [
    "Lecture notes are available [here](https://drive.google.com/file/d/17nn4JSGsMIDlydS83nlM9LlVDQ4LoBK_/view?usp=sharing)."
   ]
  },
  {
   "cell_type": "markdown",
   "metadata": {},
   "source": [
    "FLOP counts for determinants using row operations versus cofactors."
   ]
  },
  {
   "cell_type": "markdown",
   "metadata": {},
   "source": [
    "Row operations:\n",
    "\n",
    "1. Compute LU: $\\frac{4 n^3 - 3n^2 - n}{6}$\n",
    "2. Compute $\\det U$: $n-1$\n",
    "\n",
    "Total : $\\frac{4 n^3 - 3n^2 + 5n - 6}{6}$"
   ]
  },
  {
   "cell_type": "markdown",
   "metadata": {},
   "source": [
    "Cofactor:  Let $C_n$ be the cost required for an $n \\times n$ determinant.  Then $C_n$ satisfies:\n",
    "\n",
    "1.  $C_n = 2n -1 + n C_{n-1}$, $C_2 = 3$."
   ]
  },
  {
   "cell_type": "markdown",
   "metadata": {},
   "source": [
    "For $n = 3$ the FLOPs are almost the same:"
   ]
  },
  {
   "cell_type": "code",
   "execution_count": 14,
   "metadata": {},
   "outputs": [
    {
     "name": "stdout",
     "output_type": "stream",
     "text": [
      "FLOPS for cofactor method: 14\n",
      "FLOPS for row operation method: 15\n"
     ]
    }
   ],
   "source": [
    "n = 3;\n",
    "\n",
    "c = 3;\n",
    "for i=3:n\n",
    "    c = 2*i-1 + n*c;\n",
    "end\n",
    "disp(sprintf('FLOPS for cofactor method: %i',c))\n",
    "lu = (4*n^3 -3*n^2+5*n-6)/6;\n",
    "disp(sprintf('FLOPS for row operation method: %i',lu))"
   ]
  },
  {
   "cell_type": "markdown",
   "metadata": {},
   "source": [
    "Increasing $n$, things get out of control fast:"
   ]
  },
  {
   "cell_type": "code",
   "execution_count": 15,
   "metadata": {},
   "outputs": [
    {
     "name": "stdout",
     "output_type": "stream",
     "text": [
      "FLOPS for cofactor method: 75\n",
      "FLOPS for row operation method: 37\n"
     ]
    }
   ],
   "source": [
    "n = 4;\n",
    "\n",
    "c = 3;\n",
    "for i=3:n\n",
    "    c = 2*i-1 + n*c;\n",
    "end\n",
    "disp(sprintf('FLOPS for cofactor method: %i',c))\n",
    "lu = (4*n^3 -3*n^2+5*n-6)/6;\n",
    "disp(sprintf('FLOPS for row operation method: %i',lu))"
   ]
  },
  {
   "cell_type": "code",
   "execution_count": 16,
   "metadata": {},
   "outputs": [
    {
     "name": "stdout",
     "output_type": "stream",
     "text": [
      "FLOPS for cofactor method: 544\n",
      "FLOPS for row operation method: 74\n"
     ]
    }
   ],
   "source": [
    "n = 5;\n",
    "\n",
    "c = 3;\n",
    "for i=3:n\n",
    "    c = 2*i-1 + n*c;\n",
    "end\n",
    "disp(sprintf('FLOPS for cofactor method: %i',c))\n",
    "lu = (4*n^3 -3*n^2+5*n-6)/6;\n",
    "disp(sprintf('FLOPS for row operation method: %i',lu))"
   ]
  },
  {
   "cell_type": "code",
   "execution_count": 17,
   "metadata": {},
   "outputs": [
    {
     "name": "stdout",
     "output_type": "stream",
     "text": [
      "FLOPS for cofactor method: 5285\n",
      "FLOPS for row operation method: 130\n"
     ]
    }
   ],
   "source": [
    "n = 6;\n",
    "\n",
    "c = 3;\n",
    "for i=3:n\n",
    "    c = 2*i-1 + n*c;\n",
    "end\n",
    "disp(sprintf('FLOPS for cofactor method: %i',c))\n",
    "lu = (4*n^3 -3*n^2+5*n-6)/6;\n",
    "disp(sprintf('FLOPS for row operation method: %i',lu))"
   ]
  },
  {
   "cell_type": "code",
   "execution_count": 18,
   "metadata": {},
   "outputs": [
    {
     "name": "stdout",
     "output_type": "stream",
     "text": [
      "FLOPS for cofactor method: 358024689\n",
      "FLOPS for row operation method: 624\n"
     ]
    }
   ],
   "source": [
    "n = 10;\n",
    "\n",
    "c = 3;\n",
    "for i=3:n\n",
    "    c = 2*i-1 + n*c;\n",
    "end\n",
    "disp(sprintf('FLOPS for cofactor method: %i',c))\n",
    "lu = (4*n^3 -3*n^2+5*n-6)/6;\n",
    "disp(sprintf('FLOPS for row operation method: %i',lu))"
   ]
  },
  {
   "cell_type": "markdown",
   "metadata": {},
   "source": [
    "To be on the list of top 500 super computers, the computer needs to be able to accomplish 1.32 petaFLOPs per second, that is $1.32 \\times 10^{15}$ FLOPs per second.   With this we can see how long it would take to to compute determinants using the cofactor expansion:"
   ]
  },
  {
   "cell_type": "code",
   "execution_count": 27,
   "metadata": {},
   "outputs": [
    {
     "name": "stdout",
     "output_type": "stream",
     "text": [
      "\n",
      "seconds =\n",
      "\n",
      "   5.6818e-14\n",
      "\n",
      "\n",
      "minutes =\n",
      "\n",
      "   9.4697e-16\n",
      "\n",
      "\n",
      "hours =\n",
      "\n",
      "   1.5783e-17\n",
      "\n",
      "\n",
      "days =\n",
      "\n",
      "   6.5762e-19\n",
      "\n",
      "\n",
      "years =\n",
      "\n",
      "   1.8017e-21\n",
      "\n"
     ]
    }
   ],
   "source": [
    "n = 4;\n",
    "c = 3;\n",
    "for i=3:n\n",
    "    c = 2*i-1 + n*c;\n",
    "end\n",
    "seconds = c/(1.32e15)\n",
    "minutes = seconds/60\n",
    "hours = minutes/60\n",
    "days = hours/24\n",
    "years = days/365"
   ]
  },
  {
   "cell_type": "code",
   "execution_count": 28,
   "metadata": {},
   "outputs": [
    {
     "name": "stdout",
     "output_type": "stream",
     "text": [
      "\n",
      "seconds =\n",
      "\n",
      "   6.2879e-06\n",
      "\n",
      "\n",
      "minutes =\n",
      "\n",
      "   1.0480e-07\n",
      "\n",
      "\n",
      "hours =\n",
      "\n",
      "   1.7466e-09\n",
      "\n",
      "\n",
      "days =\n",
      "\n",
      "   7.2776e-11\n",
      "\n",
      "\n",
      "years =\n",
      "\n",
      "   1.9939e-13\n",
      "\n"
     ]
    }
   ],
   "source": [
    "n = 11;\n",
    "c = 3;\n",
    "for i=3:n\n",
    "    c = 2*i-1 + n*c;\n",
    "end\n",
    "seconds = c/(1.32e15)\n",
    "minutes = seconds/60\n",
    "hours = minutes/60\n",
    "days = hours/24\n",
    "years = days/365"
   ]
  },
  {
   "cell_type": "code",
   "execution_count": 29,
   "metadata": {},
   "outputs": [
    {
     "name": "stdout",
     "output_type": "stream",
     "text": [
      "\n",
      "seconds =\n",
      "\n",
      "   1.6282e-04\n",
      "\n",
      "\n",
      "minutes =\n",
      "\n",
      "   2.7136e-06\n",
      "\n",
      "\n",
      "hours =\n",
      "\n",
      "   4.5227e-08\n",
      "\n",
      "\n",
      "days =\n",
      "\n",
      "   1.8845e-09\n",
      "\n",
      "\n",
      "years =\n",
      "\n",
      "   5.1629e-12\n",
      "\n"
     ]
    }
   ],
   "source": [
    "n = 12;\n",
    "c = 3;\n",
    "for i=3:n\n",
    "    c = 2*i-1 + n*c;\n",
    "end\n",
    "seconds = c/(1.32e15)\n",
    "minutes = seconds/60\n",
    "hours = minutes/60\n",
    "days = hours/24\n",
    "years = days/365"
   ]
  },
  {
   "cell_type": "code",
   "execution_count": 30,
   "metadata": {},
   "outputs": [
    {
     "name": "stdout",
     "output_type": "stream",
     "text": [
      "\n",
      "seconds =\n",
      "\n",
      "    4.9648\n",
      "\n",
      "\n",
      "minutes =\n",
      "\n",
      "    0.0827\n",
      "\n",
      "\n",
      "hours =\n",
      "\n",
      "    0.0014\n",
      "\n",
      "\n",
      "days =\n",
      "\n",
      "   5.7463e-05\n",
      "\n",
      "\n",
      "years =\n",
      "\n",
      "   1.5743e-07\n",
      "\n"
     ]
    }
   ],
   "source": [
    "n = 15;\n",
    "c = 3;\n",
    "for i=3:n\n",
    "    c = 2*i-1 + n*c;\n",
    "end\n",
    "seconds = c/(1.32e15)\n",
    "minutes = seconds/60\n",
    "hours = minutes/60\n",
    "days = hours/24\n",
    "years = days/365"
   ]
  },
  {
   "cell_type": "code",
   "execution_count": 31,
   "metadata": {},
   "outputs": [
    {
     "name": "stdout",
     "output_type": "stream",
     "text": [
      "\n",
      "seconds =\n",
      "\n",
      "   6.4914e+08\n",
      "\n",
      "\n",
      "minutes =\n",
      "\n",
      "   1.0819e+07\n",
      "\n",
      "\n",
      "hours =\n",
      "\n",
      "   1.8032e+05\n",
      "\n",
      "\n",
      "days =\n",
      "\n",
      "   7.5132e+03\n",
      "\n",
      "\n",
      "years =\n",
      "\n",
      "   20.5842\n",
      "\n"
     ]
    }
   ],
   "source": [
    "n = 20;\n",
    "c = 3;\n",
    "for i=3:n\n",
    "    c = 2*i-1 + n*c;\n",
    "end\n",
    "seconds = c/(1.32e15)\n",
    "minutes = seconds/60\n",
    "hours = minutes/60\n",
    "days = hours/24\n",
    "years = days/365"
   ]
  },
  {
   "cell_type": "markdown",
   "metadata": {},
   "source": [
    "On a supercomputer, a $20\\times 20$ determinant would require 20 years if row operations were not used!"
   ]
  }
 ],
 "metadata": {
  "kernelspec": {
   "display_name": "Matlab",
   "language": "matlab",
   "name": "matlab"
  },
  "language_info": {
   "codemirror_mode": "octave",
   "file_extension": ".m",
   "help_links": [
    {
     "text": "MetaKernel Magics",
     "url": "https://metakernel.readthedocs.io/en/latest/source/README.html"
    }
   ],
   "mimetype": "text/x-octave",
   "name": "matlab",
   "version": "0.16.11"
  }
 },
 "nbformat": 4,
 "nbformat_minor": 2
}
