{
 "cells": [
  {
   "cell_type": "markdown",
   "metadata": {},
   "source": [
    "# Lecture 28\n",
    "\n",
    "## A demo lecture to wrap things up."
   ]
  },
  {
   "cell_type": "markdown",
   "metadata": {},
   "source": [
    "## Complex eigenvalues"
   ]
  },
  {
   "cell_type": "code",
   "execution_count": 40,
   "metadata": {},
   "outputs": [
    {
     "name": "stdout",
     "output_type": "stream",
     "text": [
      "\n",
      "A =\n",
      "\n",
      "     0     1\n",
      "    -1     0\n",
      "\n",
      "\n",
      "ans =\n",
      "\n",
      "   0.0000 + 1.0000i\n",
      "   0.0000 - 1.0000i\n",
      "\n"
     ]
    }
   ],
   "source": [
    "A = [0, 1; -1,0]\n",
    "eig(A)"
   ]
  },
  {
   "cell_type": "code",
   "execution_count": 41,
   "metadata": {},
   "outputs": [
    {
     "name": "stdout",
     "output_type": "stream",
     "text": [
      "\n",
      "V =\n",
      "\n",
      "   0.7071 + 0.0000i   0.7071 + 0.0000i\n",
      "   0.0000 + 0.7071i   0.0000 - 0.7071i\n",
      "\n",
      "\n",
      "D =\n",
      "\n",
      "   0.0000 + 1.0000i   0.0000 + 0.0000i\n",
      "   0.0000 + 0.0000i   0.0000 - 1.0000i\n",
      "\n"
     ]
    }
   ],
   "source": [
    "[V,D] = eig(A)"
   ]
  },
  {
   "cell_type": "code",
   "execution_count": 45,
   "metadata": {},
   "outputs": [
    {
     "name": "stdout",
     "output_type": "stream",
     "text": [
      "\n",
      "ans =\n",
      "\n",
      "     0\n",
      "     0\n",
      "\n"
     ]
    }
   ],
   "source": [
    "A*V(:,1) - D(1,1)*V(:,1)"
   ]
  },
  {
   "cell_type": "code",
   "execution_count": 46,
   "metadata": {},
   "outputs": [
    {
     "name": "stdout",
     "output_type": "stream",
     "text": [
      "\n",
      "ans =\n",
      "\n",
      "     0\n",
      "     0\n",
      "\n"
     ]
    }
   ],
   "source": [
    "A*V(:,2) - D(2,2)*V(:,2)"
   ]
  },
  {
   "cell_type": "markdown",
   "metadata": {},
   "source": [
    "## Gershgorin Circle Theorem\n",
    "\n",
    "Let $A$ be an $n\\times n$ matrix and let $D_i$ denote the circle in the complex plane $\\mathbb C$ with center $a_{ii}$ and radius $\\sum_{j\\neq i} |a_{ij}|$:\n",
    "\n",
    "$$D_i = \\left\\{ z \\in \\mathbb C : |z-a_{ii}| \\leq \\sum_{j \\neq i} |a_{ij}| \\right\\}.$$\n",
    "\n",
    "Then all of the eigenvalues of $A$ are contained in the union $D_A = \\bigcup_i D_i$."
   ]
  },
  {
   "cell_type": "code",
   "execution_count": 61,
   "metadata": {},
   "outputs": [
    {
     "name": "stdout",
     "output_type": "stream",
     "text": [
      "\n",
      "A =\n",
      "\n",
      "    4.0000    0.1000    1.0000\n",
      "         0    0.2000    1.0000\n",
      "   -0.1000         0    9.0000\n",
      "\n"
     ]
    },
    {
     "data": {
      "image/png": "[encoded data removed]",
      "text/plain": [
       "<IPython.core.display.Image object>"
      ]
     },
     "metadata": {},
     "output_type": "display_data"
    }
   ],
   "source": [
    "hold on\n",
    "%A = [10 2 3 1; 1 -3 1 -1; -1 -3 -1 4; 2 2 2 5]\n",
    "%A = rand(10)-1/2; A = A + 1j*(rand(10)-1/2);\n",
    "A = [4,.1,1;0,.2,1;-.1,0,9]\n",
    "for i = 1:length(A)\n",
    "    a = A(i,i); r = norm(A(i,:),1)-abs(a);\n",
    "    theta = linspace(0,2*pi,100);\n",
    "    x = r*cos(theta); y = r*sin(theta);\n",
    "    plot(x+real(a),y + imag(a),'k')\n",
    "end\n",
    "lambda = eig(A);\n",
    "plot(real(lambda),imag(lambda),'*')"
   ]
  },
  {
   "cell_type": "markdown",
   "metadata": {},
   "source": [
    "## Spectral factorization\n"
   ]
  },
  {
   "cell_type": "code",
   "execution_count": 62,
   "metadata": {},
   "outputs": [
    {
     "name": "stdout",
     "output_type": "stream",
     "text": [
      "\n",
      "V =\n",
      "\n",
      "    0.6547   -0.6547\n",
      "    0.7559    0.7559\n",
      "\n",
      "\n",
      "D =\n",
      "\n",
      "    4.4641         0\n",
      "         0   -2.4641\n",
      "\n"
     ]
    }
   ],
   "source": [
    "A = [1, 3; 4, 1]; % a non-symmetric matrix\n",
    "[V,D] = eig(A)"
   ]
  },
  {
   "cell_type": "code",
   "execution_count": 63,
   "metadata": {},
   "outputs": [
    {
     "name": "stdout",
     "output_type": "stream",
     "text": [
      "\n",
      "ans =\n",
      "\n",
      "    1.0000    3.0000\n",
      "    4.0000    1.0000\n",
      "\n"
     ]
    }
   ],
   "source": [
    "V*D*inv(V)"
   ]
  },
  {
   "cell_type": "code",
   "execution_count": 67,
   "metadata": {},
   "outputs": [
    {
     "name": "stdout",
     "output_type": "stream",
     "text": [
      "\n",
      "V =\n",
      "\n",
      "   -0.7071    0.7071\n",
      "    0.7071    0.7071\n",
      "\n",
      "\n",
      "D =\n",
      "\n",
      "    -2     0\n",
      "     0     4\n",
      "\n"
     ]
    }
   ],
   "source": [
    "A = [1, 3; 3, 1]; % a symmetric matrix\n",
    "[V,D] = eig(A)"
   ]
  },
  {
   "cell_type": "code",
   "execution_count": 68,
   "metadata": {},
   "outputs": [
    {
     "name": "stdout",
     "output_type": "stream",
     "text": [
      "\n",
      "ans =\n",
      "\n",
      "     1     3\n",
      "     3     1\n",
      "\n"
     ]
    }
   ],
   "source": [
    "V*D*inv(V)"
   ]
  },
  {
   "cell_type": "code",
   "execution_count": 71,
   "metadata": {},
   "outputs": [
    {
     "name": "stdout",
     "output_type": "stream",
     "text": [
      "\n",
      "ans =\n",
      "\n",
      "    1.0000         0\n",
      "         0    1.0000\n",
      "\n"
     ]
    }
   ],
   "source": [
    "V'*V"
   ]
  },
  {
   "cell_type": "code",
   "execution_count": 72,
   "metadata": {},
   "outputs": [
    {
     "name": "stdout",
     "output_type": "stream",
     "text": [
      "\n",
      "ans =\n",
      "\n",
      "    1.0000    3.0000\n",
      "    3.0000    1.0000\n",
      "\n"
     ]
    }
   ],
   "source": [
    "V*D*V' % V' = inv(V) because A is symmetric"
   ]
  },
  {
   "cell_type": "markdown",
   "metadata": {},
   "source": [
    "Not every matrix has such a factorization:"
   ]
  },
  {
   "cell_type": "code",
   "execution_count": 65,
   "metadata": {},
   "outputs": [
    {
     "name": "stdout",
     "output_type": "stream",
     "text": [
      "\n",
      "A =\n",
      "\n",
      "     1     1\n",
      "     0     1\n",
      "\n",
      "\n",
      "V =\n",
      "\n",
      "    1.0000   -1.0000\n",
      "         0    0.0000\n",
      "\n",
      "\n",
      "D =\n",
      "\n",
      "     1     0\n",
      "     0     1\n",
      "\n"
     ]
    }
   ],
   "source": [
    "A = [1, 1; 0, 1] % a non-symmetric matrix\n",
    "[V,D] = eig(A)"
   ]
  },
  {
   "cell_type": "code",
   "execution_count": 66,
   "metadata": {},
   "outputs": [
    {
     "name": "stdout",
     "output_type": "stream",
     "text": [
      "Warning: Matrix is close to singular or badly scaled. Results may be inaccurate. RCOND =  1.110223e-16.\n",
      "\n",
      "\n",
      "ans =\n",
      "\n",
      "     1     0\n",
      "     0     1\n",
      "\n"
     ]
    }
   ],
   "source": [
    "V*D*inv(V)"
   ]
  },
  {
   "cell_type": "markdown",
   "metadata": {},
   "source": [
    "## QR eigenvalue algorithm"
   ]
  },
  {
   "cell_type": "code",
   "execution_count": 90,
   "metadata": {},
   "outputs": [],
   "source": [
    "format long\n",
    "A = [1, 3; 3, 1];\n",
    "for i = 1:80\n",
    "    [Q,R] = qr(A);\n",
    "    A = R*Q;\n",
    "end"
   ]
  },
  {
   "cell_type": "code",
   "execution_count": 91,
   "metadata": {},
   "outputs": [
    {
     "name": "stdout",
     "output_type": "stream",
     "text": [
      "\n",
      "A =\n",
      "\n",
      "   3.999999999999999   0.000000000000001\n",
      "   0.000000000000000  -2.000000000000000\n",
      "\n"
     ]
    }
   ],
   "source": [
    "A"
   ]
  },
  {
   "cell_type": "code",
   "execution_count": 92,
   "metadata": {},
   "outputs": [
    {
     "name": "stdout",
     "output_type": "stream",
     "text": [
      "\n",
      "ans =\n",
      "\n",
      "   3.999999999999999\n",
      "  -2.000000000000000\n",
      "\n"
     ]
    }
   ],
   "source": [
    "eig(A)"
   ]
  },
  {
   "cell_type": "code",
   "execution_count": 101,
   "metadata": {},
   "outputs": [
    {
     "name": "stdout",
     "output_type": "stream",
     "text": [
      "\n",
      "A =\n",
      "\n",
      "     1     3     1\n",
      "     3     0    -1\n",
      "     1    -1     1\n",
      "\n",
      "\n",
      "A =\n",
      "\n",
      "   3.547506613164868   0.000000851961181   0.000000000000000\n",
      "   0.000000851961184  -3.034041835803387   0.000000000000000\n",
      "   0.000000000000000  -0.000000000000000   1.486535222638515\n",
      "\n"
     ]
    }
   ],
   "source": [
    "A = [1, 3, 1; 3, 0, -1; 1,  -1, 1]\n",
    "for i = 1:100\n",
    "    [Q,R] = qr(A);\n",
    "    A = R*Q;\n",
    "end\n",
    "A"
   ]
  },
  {
   "cell_type": "code",
   "execution_count": 102,
   "metadata": {},
   "outputs": [
    {
     "name": "stdout",
     "output_type": "stream",
     "text": [
      "\n",
      "ans =\n",
      "\n",
      "   3.547506613164979\n",
      "  -3.034041835803497\n",
      "   1.486535222638515\n",
      "\n"
     ]
    }
   ],
   "source": [
    "eig(A)"
   ]
  },
  {
   "cell_type": "markdown",
   "metadata": {},
   "source": [
    "## Singular values"
   ]
  },
  {
   "cell_type": "code",
   "execution_count": 104,
   "metadata": {},
   "outputs": [],
   "source": [
    "A = randn(20,10);\n",
    "[U,S,V] = svd(A);"
   ]
  },
  {
   "cell_type": "code",
   "execution_count": 105,
   "metadata": {},
   "outputs": [
    {
     "name": "stdout",
     "output_type": "stream",
     "text": [
      "\n",
      "ans =\n",
      "\n",
      "     1.040978413993062e-14\n",
      "\n"
     ]
    }
   ],
   "source": [
    "norm(U*S*V' - A)"
   ]
  },
  {
   "cell_type": "markdown",
   "metadata": {},
   "source": [
    "## Condition number\n",
    "\n",
    "Consider the matrix from CP5:"
   ]
  },
  {
   "cell_type": "code",
   "execution_count": 106,
   "metadata": {},
   "outputs": [],
   "source": [
    "r = RandStream('mt19937ar','Seed',1234);\n",
    "A = r.randn(6,10);\n",
    "At = [1e-8*eye(10); A];"
   ]
  },
  {
   "cell_type": "markdown",
   "metadata": {},
   "source": [
    "Then, let's choose $\\vec b$ so that we know the exact solution:"
   ]
  },
  {
   "cell_type": "code",
   "execution_count": 107,
   "metadata": {},
   "outputs": [],
   "source": [
    "x_true = ones(10,1);\n",
    "bt = At*x_true;"
   ]
  },
  {
   "cell_type": "code",
   "execution_count": 108,
   "metadata": {},
   "outputs": [
    {
     "name": "stdout",
     "output_type": "stream",
     "text": [
      "\n",
      "x =\n",
      "\n",
      "   0.415706332160811\n",
      "  14.396301413488539\n",
      "  -3.576282694993858\n",
      "   3.857307186801808\n",
      "  10.322835462601677\n",
      "   3.727905381056560\n",
      "  -3.093970265070035\n",
      "  24.089694077103999\n",
      " -10.733275390162861\n",
      " -11.706397203879543\n",
      "\n"
     ]
    }
   ],
   "source": [
    "[LU,P] = GEpp(At'*At);\n",
    "x = applyP(P,At'*bt);\n",
    "x = Forsub([LU,x]);\n",
    "x = Backsub([LU,x])"
   ]
  },
  {
   "cell_type": "markdown",
   "metadata": {},
   "source": [
    "If our solution is fully accurate, we'd espect this relative error to be about $2 \\times 10^{-16}$:"
   ]
  },
  {
   "cell_type": "code",
   "execution_count": 109,
   "metadata": {},
   "outputs": [
    {
     "name": "stdout",
     "output_type": "stream",
     "text": [
      "\n",
      "ans =\n",
      "\n",
      "  10.734441920919741\n",
      "\n"
     ]
    }
   ],
   "source": [
    "norm(x-x_true)/norm(x_true)"
   ]
  },
  {
   "cell_type": "code",
   "execution_count": 110,
   "metadata": {},
   "outputs": [
    {
     "name": "stdout",
     "output_type": "stream",
     "text": [
      "\n",
      "x =\n",
      "\n",
      "   0.415706332160811\n",
      "  14.396301413488539\n",
      "  -3.576282694993858\n",
      "   3.857307186801808\n",
      "  10.322835462601677\n",
      "   3.727905381056560\n",
      "  -3.093970265070035\n",
      "  24.089694077103999\n",
      " -10.733275390162861\n",
      " -11.706397203879543\n",
      "\n"
     ]
    }
   ],
   "source": [
    "x"
   ]
  },
  {
   "cell_type": "code",
   "execution_count": 111,
   "metadata": {},
   "outputs": [
    {
     "name": "stdout",
     "output_type": "stream",
     "text": [
      "\n",
      "x_true =\n",
      "\n",
      "     1\n",
      "     1\n",
      "     1\n",
      "     1\n",
      "     1\n",
      "     1\n",
      "     1\n",
      "     1\n",
      "     1\n",
      "     1\n",
      "\n"
     ]
    }
   ],
   "source": [
    "x_true"
   ]
  },
  {
   "cell_type": "markdown",
   "metadata": {},
   "source": [
    "We have lost all 16 digits.  This is indeed predicted by the condition number:"
   ]
  },
  {
   "cell_type": "code",
   "execution_count": 112,
   "metadata": {},
   "outputs": [
    {
     "name": "stdout",
     "output_type": "stream",
     "text": [
      "\n",
      "ans =\n",
      "\n",
      "     3.250311517748273e+17\n",
      "\n"
     ]
    }
   ],
   "source": [
    "cond(At'*At)"
   ]
  },
  {
   "cell_type": "markdown",
   "metadata": {},
   "source": [
    "The expected error is approximately"
   ]
  },
  {
   "cell_type": "code",
   "execution_count": 114,
   "metadata": {},
   "outputs": [
    {
     "name": "stdout",
     "output_type": "stream",
     "text": [
      "\n",
      "ans =\n",
      "\n",
      "  65.006230354965453\n",
      "\n"
     ]
    }
   ],
   "source": [
    "cond(At'*At)*2e-16"
   ]
  },
  {
   "cell_type": "markdown",
   "metadata": {},
   "source": [
    "If we use Householder QR we only encounter `At` which has a much smaller condition number:"
   ]
  },
  {
   "cell_type": "code",
   "execution_count": 115,
   "metadata": {},
   "outputs": [
    {
     "name": "stdout",
     "output_type": "stream",
     "text": [
      "\n",
      "ans =\n",
      "\n",
      "     5.040901161460820e+08\n",
      "\n",
      "\n",
      "ans =\n",
      "\n",
      "     3.559802987994078e-08\n",
      "\n"
     ]
    }
   ],
   "source": [
    "cond(At)\n",
    "n = size(At,2);\n",
    "[~,R] = House([At,bt]);\n",
    "x = Backsub(R(1:n,1:n+1));\n",
    "norm(x-x_true)/norm(x_true)"
   ]
  },
  {
   "cell_type": "markdown",
   "metadata": {},
   "source": [
    "We've lost approximately 8 digits, also predicted closely by the condition number.\n",
    "\n",
    "We can then see what MATLAB does.  It seems to do a little better, but not by much.  I believe it incorporates pivoting in the QR algorithm which helps a little (in this case)."
   ]
  },
  {
   "cell_type": "code",
   "execution_count": 116,
   "metadata": {},
   "outputs": [
    {
     "name": "stdout",
     "output_type": "stream",
     "text": [
      "\n",
      "ans =\n",
      "\n",
      "     1.235108044623968e-08\n",
      "\n"
     ]
    }
   ],
   "source": [
    "x = At\\bt;\n",
    "norm(x-x_true)/norm(x_true)"
   ]
  },
  {
   "cell_type": "markdown",
   "metadata": {},
   "source": [
    "## Using the SVD for image compression"
   ]
  },
  {
   "cell_type": "code",
   "execution_count": 117,
   "metadata": {},
   "outputs": [
    {
     "data": {
      "image/png": "[encoded data removed]",
      "text/plain": [
       "<IPython.core.display.Image object>"
      ]
     },
     "metadata": {},
     "output_type": "display_data"
    }
   ],
   "source": [
    "A = imread('demo.png');\n",
    "A = rgb2gray(A);\n",
    "imshow(A)"
   ]
  },
  {
   "cell_type": "markdown",
   "metadata": {},
   "source": [
    "For this image, the first singular value is dominant."
   ]
  },
  {
   "cell_type": "code",
   "execution_count": 120,
   "metadata": {},
   "outputs": [
    {
     "name": "stdout",
     "output_type": "stream",
     "text": [
      "\n",
      "ans =\n",
      "\n",
      "   1.0e+04 *\n",
      "\n",
      "    8.4321         0         0         0         0\n",
      "         0    0.2951         0         0         0\n",
      "         0         0    0.2397         0         0\n",
      "         0         0         0    0.2186         0\n",
      "         0         0         0         0    0.2051\n",
      "\n"
     ]
    }
   ],
   "source": [
    "[U,S,V] = svd(double(A));\n",
    "S(1:5,1:5)"
   ]
  },
  {
   "cell_type": "markdown",
   "metadata": {},
   "source": [
    "If we reconstruct the image using only the first singular value, we get a surprisingly good idea what the picture is."
   ]
  },
  {
   "cell_type": "code",
   "execution_count": 121,
   "metadata": {},
   "outputs": [
    {
     "name": "stdout",
     "output_type": "stream",
     "text": [
      "Compression ratio = 0.00598"
     ]
    },
    {
     "data": {
      "image/png": "[encoded data removed]",
      "text/plain": [
       "<IPython.core.display.Image object>"
      ]
     },
     "metadata": {},
     "output_type": "display_data"
    }
   ],
   "source": [
    "k = 1; % A = U S V^T\n",
    "W = V';\n",
    "[m,n] = size(A);\n",
    "B =  U(:,1:k)*S(1:k,1:k)*W(1:k,:);\n",
    "B = uint8(B);\n",
    "imshow(B)\n",
    "fprintf('Compression ratio = %.5f', (m*k+k+n*k)/(m*n))"
   ]
  },
  {
   "cell_type": "markdown",
   "metadata": {},
   "source": [
    "This required less then 1% of the storage required to store the full matrix.\n",
    "\n",
    "Next, we look at the size of the singular values, relative to the top singular value:"
   ]
  },
  {
   "cell_type": "code",
   "execution_count": 122,
   "metadata": {},
   "outputs": [
    {
     "name": "stdout",
     "output_type": "stream",
     "text": [
      "\n",
      "ans =\n",
      "\n",
      "  Columns 1 through 17\n",
      "\n",
      "    0.0172    0.0162    0.0157    0.0149    0.0145    0.0143    0.0135    0.0122    0.0116    0.0109    0.0106    0.0099    0.0098    0.0096    0.0091    0.0088    0.0080\n",
      "\n",
      "  Columns 18 through 21\n",
      "\n",
      "    0.0078    0.0078    0.0075    0.0074\n",
      "\n"
     ]
    }
   ],
   "source": [
    "diag(S(10:30,10:30))'/S(1,1) % Look at singular values 10 through 30, in relative size"
   ]
  },
  {
   "cell_type": "markdown",
   "metadata": {},
   "source": [
    "The 20th singular value is less than 1% of the magnitude of the top singular value.  So, we will chop there and see what image we reconstruct."
   ]
  },
  {
   "cell_type": "code",
   "execution_count": 123,
   "metadata": {},
   "outputs": [
    {
     "name": "stdout",
     "output_type": "stream",
     "text": [
      "Compression ratio = 0.11955"
     ]
    },
    {
     "data": {
      "image/png": "[encoded data removed]",
      "text/plain": [
       "<IPython.core.display.Image object>"
      ]
     },
     "metadata": {},
     "output_type": "display_data"
    }
   ],
   "source": [
    "k = 20; % A = U S V^T\n",
    "W = V';\n",
    "[m,n] = size(A);\n",
    "B =  U(:,1:k)*S(1:k,1:k)*W(1:k,:);\n",
    "B = uint8(B);\n",
    "imshow(B)\n",
    "fprintf('Compression ratio = %.5f', (m*k+k+n*k)/(m*n))"
   ]
  },
  {
   "cell_type": "markdown",
   "metadata": {},
   "source": [
    "With just over 10% of the storage, we can compress the image so that it is at least recognizable.  There are some issues that affect the true amount of storage.  These are related to the fact that the original image was an integer matrix and $U,V,S$ are now double precision numbers.  Whether justified, or not, we ignore that here for simplicity."
   ]
  },
  {
   "cell_type": "code",
   "execution_count": null,
   "metadata": {},
   "outputs": [],
   "source": []
  }
 ],
 "metadata": {
  "kernelspec": {
   "display_name": "Matlab",
   "language": "matlab",
   "name": "matlab"
  },
  "language_info": {
   "codemirror_mode": "octave",
   "file_extension": ".m",
   "help_links": [
    {
     "text": "MetaKernel Magics",
     "url": "https://metakernel.readthedocs.io/en/latest/source/README.html"
    }
   ],
   "mimetype": "text/x-octave",
   "name": "matlab",
   "version": "0.16.11"
  }
 },
 "nbformat": 4,
 "nbformat_minor": 2
}
