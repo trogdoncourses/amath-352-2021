{
 "cells": [
  {
   "cell_type": "markdown",
   "metadata": {},
   "source": [
    "# Lecture 10\n",
    "\n",
    "\n",
    "### Iterative methods"
   ]
  },
  {
   "cell_type": "markdown",
   "metadata": {},
   "source": [
    "## Simple scalar iteration\n",
    "\n",
    "Suppose that $|m| <1$ and consider the iteration\n",
    "\n",
    "$$ x_0 = 0 $$\n",
    "$$ x_{k+1} = m x_k + b.  $$\n",
    "\n",
    "If $\\lim_{k \\to \\infty} x_k$ exists, say, $\\lim_{k \\to \\infty} x_k = x$ then\n",
    "\n",
    "$$ x = m x + b. $$\n",
    "\n",
    "So, then $x = \\frac{b}{1-m}$!  Notice here that $|m|< 1$ is sufficient to ensure that this equation makes sense."
   ]
  },
  {
   "cell_type": "markdown",
   "metadata": {},
   "source": [
    "Let's take a moment to show that this limit exists.  \n",
    "\n",
    "$x_0 = 0$<br>\n",
    "$x_1 = b$<br>\n",
    "$x_2 = mb + b$<br>\n",
    "$x_3 = m^2 b + mb + b$<br>\n",
    "$x_4 = m^3b + m^2 b + mb+ b$<br>\n",
    "$\\vdots$ <br>\n",
    "$x_k = m^{k-1}b + m^{k-2}b + \\cdots + mb + b$\n",
    "\n",
    "Then\n",
    "\n",
    "$$x_k = \\frac{1-m^k}{1-m}b \\overset{k\\to \\infty}{\\longrightarrow}\\frac{b}{1-m}. $$\n"
   ]
  },
  {
   "cell_type": "markdown",
   "metadata": {},
   "source": [
    "## Matrix iteration\n",
    "\n",
    "We can attempt to do the same steps with a matrix $M$, and a vector $\\vec b$.  But what is an analogous condition to $|m|< 1$?  Well, if $|m|<1$ if and only if $m^k \\to 0$ as $k \\to \\infty$.  And that is exactly what is needed in the above proof.\n",
    "\n",
    "#### Definition\n",
    "\n",
    "An $n \\times n$ matrix $M$ is __convergent__ if\n",
    "\n",
    "$$\\lim_{k\\to \\infty} (M^k)_{ij} = 0,$$\n",
    "\n",
    "for all $1 \\leq i,j\\leq n$.\n",
    "\n",
    "So, suppose that $M$ is convergent and consider the iteration\n",
    "\n",
    "$$ \\vec x_0 = \\vec 0 $$\n",
    "$$ \\vec x_{k+1} = M \\vec x_k + \\vec b.  $$"
   ]
  },
  {
   "cell_type": "markdown",
   "metadata": {},
   "source": [
    "So, again suppose that $\\lim_{k \\to \\infty} \\vec x_k = \\vec x$.  Indeed, this will hold if the matrix is convergent.  Then we have\n",
    "\n",
    "$$ \\vec x = M \\vec x + \\vec b$$\n",
    "\n",
    "or, equivalently,\n",
    "\n",
    "$$ (I - M) \\vec x = \\vec b $$.\n",
    "\n",
    "So, we can then solve $(I-M) \\vec x = \\vec b$ for any choice of $\\vec b$ and $(I-M)$ must be non-singular."
   ]
  },
  {
   "cell_type": "code",
   "execution_count": 1,
   "metadata": {},
   "outputs": [],
   "source": [
    "n = 10;\n",
    "M = .3*(rand(n,n)-.5);\n",
    "A = eye(n) - M;\n",
    "b = rand(n,1);\n",
    "y = zeros(n,1);\n",
    "format long"
   ]
  },
  {
   "cell_type": "code",
   "execution_count": 2,
   "metadata": {},
   "outputs": [
    {
     "name": "stdout",
     "output_type": "stream",
     "text": [
      "\n",
      "y =\n",
      "\n",
      "   0.162182308193243\n",
      "   0.794284540683907\n",
      "   0.311215042044805\n",
      "   0.528533135506213\n",
      "   0.165648729499781\n",
      "   0.601981941401637\n",
      "   0.262971284540144\n",
      "   0.654079098476782\n",
      "   0.689214503140008\n",
      "   0.748151592823709\n",
      "\n"
     ]
    }
   ],
   "source": [
    "y = M*y+b"
   ]
  },
  {
   "cell_type": "code",
   "execution_count": 3,
   "metadata": {},
   "outputs": [
    {
     "name": "stdout",
     "output_type": "stream",
     "text": [
      "\n",
      "y =\n",
      "\n",
      "   0.060438382781441\n",
      "   0.735903542536850\n",
      "   0.527114262958459\n",
      "   0.505778769503910\n",
      "   0.410825247570715\n",
      "   0.451064945736298\n",
      "   0.380282881802232\n",
      "   0.663045750651926\n",
      "   0.753641712304699\n",
      "   0.691615854592064\n",
      "\n"
     ]
    }
   ],
   "source": [
    "y = M*y+b"
   ]
  },
  {
   "cell_type": "code",
   "execution_count": 4,
   "metadata": {},
   "outputs": [
    {
     "name": "stdout",
     "output_type": "stream",
     "text": [
      "\n",
      "y =\n",
      "\n",
      "   0.085230548452578\n",
      "   0.676231208813082\n",
      "   0.569316858893582\n",
      "   0.564155562287772\n",
      "   0.425685645889460\n",
      "   0.501326594391613\n",
      "   0.382663970337996\n",
      "   0.658625499934933\n",
      "   0.747032477368741\n",
      "   0.677963949161565\n",
      "\n"
     ]
    }
   ],
   "source": [
    "y = M*y+b"
   ]
  },
  {
   "cell_type": "code",
   "execution_count": 42,
   "metadata": {},
   "outputs": [
    {
     "name": "stdout",
     "output_type": "stream",
     "text": [
      "\n",
      "y =\n",
      "\n",
      "   0.099346593634256\n",
      "   0.668927584857268\n",
      "   0.555958570679659\n",
      "   0.558441298505539\n",
      "   0.405159888817612\n",
      "   0.517791815633816\n",
      "   0.397821474656850\n",
      "   0.643761926670819\n",
      "   0.758458001968773\n",
      "   0.658586313923046\n",
      "\n"
     ]
    }
   ],
   "source": [
    "y = M*y+b"
   ]
  },
  {
   "cell_type": "code",
   "execution_count": 43,
   "metadata": {},
   "outputs": [
    {
     "name": "stdout",
     "output_type": "stream",
     "text": [
      "\n",
      "ans =\n",
      "\n",
      "   1.0e-15 *\n",
      "\n",
      "                   0\n",
      "                   0\n",
      "  -0.111022302462516\n",
      "   0.111022302462516\n",
      "  -0.138777878078145\n",
      "   0.111022302462516\n",
      "   0.111022302462516\n",
      "                   0\n",
      "   0.111022302462516\n",
      "                   0\n",
      "\n"
     ]
    }
   ],
   "source": [
    "A*y-b"
   ]
  },
  {
   "cell_type": "code",
   "execution_count": null,
   "metadata": {},
   "outputs": [],
   "source": [
    "A = diag([1,2,3,4,5]);\n",
    "M = eye(5) - A;\n",
    "b = [1,1,1,1,1]';\n",
    "y = zeros(5,1);\n",
    "format long"
   ]
  },
  {
   "cell_type": "code",
   "execution_count": null,
   "metadata": {},
   "outputs": [],
   "source": [
    "A"
   ]
  },
  {
   "cell_type": "code",
   "execution_count": null,
   "metadata": {},
   "outputs": [],
   "source": [
    "y = A*y + b"
   ]
  },
  {
   "cell_type": "markdown",
   "metadata": {},
   "source": [
    "## Jacobi's Algorithm\n",
    "\n",
    "A \"good\" algorithm should work on a diagonal linear system!  Jacobi's algorithm is based around the additive decomposition of a matrix:\n",
    "$$A = L + D + U.$$\n",
    "Here $L$ is the strictly lower-triangular of $A$, $D$ is just the diagonal of $A$ and $U$ is the strictly upper-triangular part of $A$.  Note that here, $L$, $U$ do not have any relation to the $LU$ factorizaton.\n",
    "\n",
    "Our goal is to solve\n",
    "$$ A\\vec x = \\vec b$$\n",
    "$$ (L + D + U) \\vec x = \\vec b$$\n",
    "$$ D^{-1}( L + D + U) \\vec x = D^{-1}\\vec b$$\n",
    "$$ \\vec x + D^{-1}(L + U) \\vec x = D^{-1} \\vec b$$\n",
    "\n",
    "So, we can now attempt to apply the Neuman series iteration with $M = - D^{-1}(L + U)$ and $\\vec b$ replaced with $D^{-1} \\vec b$.\n",
    "\n",
    "This is the essence of Jacobi's algorithm.  But the implementation is slightly different because there is no need to ever fully construct $M$.\n",
    "\n",
    "```\n",
    "INPUT: An n x n matrix A, an n x 1 vector b, an error tolerance err, a maximum number of steps K\n",
    "OUPUT: An approximation of the solution of A*x = b\n",
    "\n",
    "STEP 1: Set y = zeros(n,1)\n",
    "STEP 2: Set L = tril(A,-1); U = triu(A,1); D = diag(A);\n",
    "STEP 3: For i = 1 to T do STEPS 5-7\n",
    "    STEP 4: Set z = (L + U)*y\n",
    "    STEP 5: Set z = D^{-1}(b-z)\n",
    "    STEP 6:If max(abs(y-z)) < err\n",
    "        OUTPUT(y)\n",
    "    STEP 7: Set y = z\n",
    "STEP 8: If i == T\n",
    "    PRINT(\"Error tolerance not acheived\")\n",
    "    OUTPUT(y)\n",
    "```\n",
    "    \n"
   ]
  },
  {
   "cell_type": "code",
   "execution_count": 73,
   "metadata": {},
   "outputs": [],
   "source": [
    "A = diag([1,2,3,4,5]) + .1*randn(5);\n",
    "L = tril(A,-1);\n",
    "U = triu(A,+1);\n",
    "LpU = L + U; % L + U\n",
    "D = diag(A);  % this is just a vector\n",
    "b = [1,1,1,1,1]';\n",
    "y = zeros(5,1);\n",
    "c = b./D; % does the inverse of a diagonal matrix"
   ]
  },
  {
   "cell_type": "code",
   "execution_count": 91,
   "metadata": {},
   "outputs": [
    {
     "name": "stdout",
     "output_type": "stream",
     "text": [
      "\n",
      "y =\n",
      "\n",
      "   0.981557967067634\n",
      "   0.425627653599940\n",
      "   0.321080925555077\n",
      "   0.266128673455235\n",
      "   0.219901821963129\n",
      "\n"
     ]
    }
   ],
   "source": [
    "% compute y = -D^{-1}(L + U)y + D^{-1}b\n",
    "y = LpU*y;  % does y = (L+U)*y\n",
    "y = -y./D + c % does y = -D^{-1}y + c"
   ]
  },
  {
   "cell_type": "code",
   "execution_count": 92,
   "metadata": {},
   "outputs": [
    {
     "name": "stdout",
     "output_type": "stream",
     "text": [
      "\n",
      "ans =\n",
      "\n",
      "   1.0e-15 *\n",
      "\n",
      "  -0.111022302462516\n",
      "                   0\n",
      "  -0.111022302462516\n",
      "                   0\n",
      "                   0\n",
      "\n"
     ]
    }
   ],
   "source": [
    "A*y-b"
   ]
  }
 ],
 "metadata": {
  "kernelspec": {
   "display_name": "Matlab",
   "language": "matlab",
   "name": "matlab"
  },
  "language_info": {
   "codemirror_mode": "octave",
   "file_extension": ".m",
   "help_links": [
    {
     "text": "MetaKernel Magics",
     "url": "https://metakernel.readthedocs.io/en/latest/source/README.html"
    }
   ],
   "mimetype": "text/x-octave",
   "name": "matlab",
   "version": "0.16.11"
  }
 },
 "nbformat": 4,
 "nbformat_minor": 2
}
