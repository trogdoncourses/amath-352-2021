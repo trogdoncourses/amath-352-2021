{
 "cells": [
  {
   "cell_type": "markdown",
   "metadata": {},
   "source": [
    "# Lecture 10\n",
    "\n",
    "\n",
    "### Iterative methods\n",
    "\n",
    "Link to lecture [notes](https://drive.google.com/file/d/1chMMJo1W6CpbKw_DuSun2u1spZ_NpSB5/view?usp=sharing)."
   ]
  },
  {
   "cell_type": "markdown",
   "metadata": {},
   "source": [
    "## Simple scalar iteration\n",
    "\n",
    "Suppose that $|m| <1$ and consider the iteration\n",
    "\n",
    "$$ x_0 = 0 $$\n",
    "$$ x_{k+1} = m x_k + b.  $$\n",
    "\n",
    "If $\\lim_{k \\to \\infty} x_k$ exists, say, $\\lim_{k \\to \\infty} x_k = x$ then\n",
    "\n",
    "$$ x = m x + b. $$\n",
    "\n",
    "So, then $x = \\frac{b}{1-m}$!  Notice here that $|m|< 1$ is sufficient to ensure that this equation makes sense."
   ]
  },
  {
   "cell_type": "markdown",
   "metadata": {},
   "source": [
    "Let's take a moment to show that this limit exists.  \n",
    "\n",
    "$x_0 = 0$<br>\n",
    "$x_1 = b$<br>\n",
    "$x_2 = mb + b$<br>\n",
    "$x_3 = m^2 b + mb + b$<br>\n",
    "$x_4 = m^3b + m^2 b + mb+ b$<br>\n",
    "$\\vdots$ <br>\n",
    "$x_k = m^{k-1}b + m^{k-2}b + \\cdots + mb + b$\n",
    "\n",
    "Then\n",
    "\n",
    "$$x_k = \\frac{1-m^k}{1-m}b \\overset{k\\to \\infty}{\\longrightarrow}\\frac{b}{1-m}. $$\n"
   ]
  },
  {
   "cell_type": "markdown",
   "metadata": {},
   "source": [
    "## Matrix iteration\n",
    "\n",
    "We can attempt to do the same steps with a matrix $M$, and a vector $\\vec b$.  But what is an analogous condition to $|m|< 1$?  Well, if $|m|<1$ if and only if $m^k \\to 0$ as $k \\to \\infty$.  And that is exactly what is needed in the above proof.\n",
    "\n",
    "#### Definition\n",
    "\n",
    "An $n \\times n$ matrix $M$ is __convergent__ if\n",
    "\n",
    "$$\\lim_{k\\to \\infty} (M^k)_{ij} = 0,$$\n",
    "\n",
    "for all $1 \\leq i,j\\leq n$.\n",
    "\n",
    "So, suppose that $M$ is convergent and consider the iteration\n",
    "\n",
    "$$ \\vec x_0 = \\vec 0 $$\n",
    "$$ \\vec x_{k+1} = M \\vec x_k + \\vec c.  $$"
   ]
  },
  {
   "cell_type": "markdown",
   "metadata": {},
   "source": [
    "So, again suppose that $\\lim_{k \\to \\infty} \\vec x_k = \\vec x$.  Indeed, this will hold if the matrix is convergent.  Then we have\n",
    "\n",
    "$$ \\vec x = M \\vec x + \\vec c$$\n",
    "\n",
    "or, equivalently,\n",
    "\n",
    "$$ (I - M) \\vec x = \\vec c $$.\n",
    "\n",
    "So, we can then solve $(I-M) \\vec x = \\vec c$ for any choice of $\\vec c$ and $(I-M)$ must be non-singular."
   ]
  },
  {
   "cell_type": "code",
   "execution_count": 1,
   "metadata": {},
   "outputs": [],
   "source": [
    "n = 10;\n",
    "M = .3*(rand(n,n)-.5);\n",
    "A = eye(n) - M;\n",
    "c = rand(n,1);\n",
    "y = zeros(n,1);"
   ]
  },
  {
   "cell_type": "code",
   "execution_count": 2,
   "metadata": {},
   "outputs": [
    {
     "name": "stdout",
     "output_type": "stream",
     "text": [
      "\n",
      "ans =\n",
      "\n",
      "   1.0e-49 *\n",
      "\n",
      "    0.1704    0.2002   -0.2521   -0.0428   -0.0810    0.0365   -0.1540    0.0058    0.0751   -0.2501\n",
      "   -0.2192    0.4123    0.1698   -0.3488    0.2200   -0.0058   -0.0247    0.0744    0.1834    0.3849\n",
      "   -0.0993   -0.4537    0.2245    0.2282   -0.0111   -0.0420    0.2019   -0.0445   -0.1846    0.1138\n",
      "    0.0057   -0.1800    0.0346    0.1111   -0.0350   -0.0103    0.0570   -0.0226   -0.0755   -0.0260\n",
      "   -0.1846   -0.2987    0.2919    0.0957    0.0736   -0.0446    0.1941   -0.0162   -0.1155    0.2631\n",
      "    0.2069    0.1674   -0.2886   -0.0063   -0.1114    0.0397   -0.1618   -0.0022    0.0595   -0.3107\n",
      "    0.0901    0.1652   -0.1470   -0.0584   -0.0326    0.0229   -0.1012    0.0103    0.0645   -0.1267\n",
      "   -0.1524   -0.1586    0.2207    0.0260    0.0759   -0.0314    0.1309   -0.0027   -0.0586    0.2255\n",
      "    0.0358    0.0511   -0.0550   -0.0144   -0.0154    0.0082   -0.0354    0.0023    0.0195   -0.0517\n",
      "   -0.2205   -0.0721    0.2830   -0.0574    0.1371   -0.0357    0.1371    0.0154   -0.0190    0.3411\n",
      "\n"
     ]
    }
   ],
   "source": [
    "M^100 % very small"
   ]
  },
  {
   "cell_type": "code",
   "execution_count": 4,
   "metadata": {},
   "outputs": [
    {
     "name": "stdout",
     "output_type": "stream",
     "text": [
      "\n",
      "y =\n",
      "\n",
      "    0.1622\n",
      "    0.7943\n",
      "    0.3112\n",
      "    0.5285\n",
      "    0.1656\n",
      "    0.6020\n",
      "    0.2630\n",
      "    0.6541\n",
      "    0.6892\n",
      "    0.7482\n",
      "\n"
     ]
    }
   ],
   "source": [
    "y = M*y+c"
   ]
  },
  {
   "cell_type": "code",
   "execution_count": 5,
   "metadata": {},
   "outputs": [
    {
     "name": "stdout",
     "output_type": "stream",
     "text": [
      "\n",
      "y =\n",
      "\n",
      "    0.0604\n",
      "    0.7359\n",
      "    0.5271\n",
      "    0.5058\n",
      "    0.4108\n",
      "    0.4511\n",
      "    0.3803\n",
      "    0.6630\n",
      "    0.7536\n",
      "    0.6916\n",
      "\n"
     ]
    }
   ],
   "source": [
    "y = M*y+c"
   ]
  },
  {
   "cell_type": "code",
   "execution_count": 6,
   "metadata": {},
   "outputs": [
    {
     "name": "stdout",
     "output_type": "stream",
     "text": [
      "\n",
      "y =\n",
      "\n",
      "    0.0852\n",
      "    0.6762\n",
      "    0.5693\n",
      "    0.5642\n",
      "    0.4257\n",
      "    0.5013\n",
      "    0.3827\n",
      "    0.6586\n",
      "    0.7470\n",
      "    0.6780\n",
      "\n"
     ]
    }
   ],
   "source": [
    "y = M*y+c"
   ]
  },
  {
   "cell_type": "code",
   "execution_count": 15,
   "metadata": {},
   "outputs": [
    {
     "name": "stdout",
     "output_type": "stream",
     "text": [
      "\n",
      "y =\n",
      "\n",
      "    0.0993\n",
      "    0.6689\n",
      "    0.5560\n",
      "    0.5584\n",
      "    0.4052\n",
      "    0.5178\n",
      "    0.3978\n",
      "    0.6438\n",
      "    0.7585\n",
      "    0.6586\n",
      "\n"
     ]
    }
   ],
   "source": [
    "y = M*y+c"
   ]
  },
  {
   "cell_type": "code",
   "execution_count": 16,
   "metadata": {},
   "outputs": [
    {
     "name": "stdout",
     "output_type": "stream",
     "text": [
      "\n",
      "ans =\n",
      "\n",
      "   1.0e-05 *\n",
      "\n",
      "    0.0982\n",
      "   -0.9870\n",
      "    0.3712\n",
      "    0.2405\n",
      "    0.0178\n",
      "    0.2157\n",
      "   -0.0264\n",
      "   -0.1121\n",
      "   -0.0047\n",
      "   -0.3705\n",
      "\n"
     ]
    }
   ],
   "source": [
    "A*y-c"
   ]
  },
  {
   "cell_type": "code",
   "execution_count": 36,
   "metadata": {},
   "outputs": [],
   "source": [
    "A = diag([1,2,3,4,5]);\n",
    "M = eye(5) - A;\n",
    "c = [1,1,1,1,1]';\n",
    "y = zeros(5,1);\n"
   ]
  },
  {
   "cell_type": "code",
   "execution_count": 22,
   "metadata": {},
   "outputs": [
    {
     "name": "stdout",
     "output_type": "stream",
     "text": [
      "\n",
      "ans =\n",
      "\n",
      "   1.0e+60 *\n",
      "\n",
      "         0         0         0         0         0\n",
      "         0    0.0000         0         0         0\n",
      "         0         0    0.0000         0         0\n",
      "         0         0         0    0.0000         0\n",
      "         0         0         0         0    1.6069\n",
      "\n"
     ]
    }
   ],
   "source": [
    "M^100 % this is huge because M is not convergent"
   ]
  },
  {
   "cell_type": "code",
   "execution_count": 18,
   "metadata": {},
   "outputs": [
    {
     "name": "stdout",
     "output_type": "stream",
     "text": [
      "\n",
      "A =\n",
      "\n",
      "     1     0     0     0     0\n",
      "     0     2     0     0     0\n",
      "     0     0     3     0     0\n",
      "     0     0     0     4     0\n",
      "     0     0     0     0     5\n",
      "\n"
     ]
    }
   ],
   "source": [
    "A"
   ]
  },
  {
   "cell_type": "code",
   "execution_count": 43,
   "metadata": {},
   "outputs": [
    {
     "name": "stdout",
     "output_type": "stream",
     "text": [
      "\n",
      "y =\n",
      "\n",
      "           1\n",
      "           1\n",
      "          43\n",
      "         547\n",
      "        3277\n",
      "\n"
     ]
    }
   ],
   "source": [
    "y = M*y + c"
   ]
  },
  {
   "cell_type": "code",
   "execution_count": 44,
   "metadata": {},
   "outputs": [
    {
     "name": "stdout",
     "output_type": "stream",
     "text": [
      "\n",
      "ans =\n",
      "\n",
      "    1.0000\n",
      "    0.5000\n",
      "    0.3333\n",
      "    0.2500\n",
      "    0.2000\n",
      "\n"
     ]
    }
   ],
   "source": [
    "A\\c"
   ]
  },
  {
   "cell_type": "markdown",
   "metadata": {},
   "source": [
    "## Jacobi's Algorithm\n",
    "\n",
    "A \"good\" algorithm should work on a diagonal linear system!  Jacobi's algorithm is based around the additive decomposition of a matrix:\n",
    "$$A = L + D + U.$$\n",
    "Here $L$ is the strictly lower-triangular of $A$, $D$ is just the diagonal of $A$ and $U$ is the strictly upper-triangular part of $A$.  Note that here, $L$, $U$ do not have any relation to the $LU$ factorizaton.\n",
    "\n",
    "Our goal is to solve\n",
    "$$ A\\vec x = \\vec b$$\n",
    "$$ (L + D + U) \\vec x = \\vec b$$\n",
    "$$ D^{-1}( L + D + U) \\vec x = D^{-1}\\vec b$$\n",
    "$$ \\vec x + D^{-1}(L + U) \\vec x = D^{-1} \\vec b$$\n",
    "\n",
    "So, we can now attempt to apply the matrix iteration with $M = - D^{-1}(L + U)$ and $\\vec c$ replaced with $D^{-1} \\vec b$.\n",
    "\n",
    "This is the essence of Jacobi's algorithm.  But the implementation is slightly different because there is no need to ever fully construct $M$.\n",
    "\n",
    "```\n",
    "INPUT: An n x n matrix A, an n x 1 vector b, an error tolerance err, a maximum number of steps K\n",
    "OUPUT: An approximation of the solution of A*x = b\n",
    "\n",
    "STEP 1: Set y = zeros(n,1)\n",
    "STEP 2: Set L = tril(A,-1); U = triu(A,1); D = diag(A);\n",
    "STEP 3: For i = 1 to T do STEPS 5-7\n",
    "    STEP 4: Set z = (L + U)*y\n",
    "    STEP 5: Set z = D^{-1}(b-z)\n",
    "    STEP 6:If max(abs(y-z)) < err\n",
    "        Set y = z\n",
    "        OUTPUT(y)\n",
    "    STEP 7: Set y = z\n",
    "STEP 8: If i == T\n",
    "    PRINT(\"Error tolerance not acheived\")\n",
    "    OUTPUT(y)\n",
    "```\n",
    "    \n"
   ]
  },
  {
   "cell_type": "code",
   "execution_count": 52,
   "metadata": {},
   "outputs": [],
   "source": [
    "A = diag([1,2,3,4,5]) + .1*randn(5);\n",
    "L = tril(A,-1);\n",
    "U = triu(A,+1);\n",
    "LpU = L + U; % L + U\n",
    "D = diag(A);  % this is just a vector\n",
    "b = [1,1,1,1,1]';\n",
    "y = zeros(5,1);"
   ]
  },
  {
   "cell_type": "code",
   "execution_count": 53,
   "metadata": {},
   "outputs": [
    {
     "name": "stdout",
     "output_type": "stream",
     "text": [
      "\n",
      "A =\n",
      "\n",
      "    0.9411    0.1655    0.0791    0.0391    0.0862\n",
      "   -0.0294    2.0308   -0.1332    0.0452   -0.1362\n",
      "   -0.0848   -0.1257    2.7670   -0.0130    0.0455\n",
      "   -0.1120   -0.0865   -0.1449    4.0184   -0.0849\n",
      "    0.2526   -0.0177    0.0334   -0.0476    4.9665\n",
      "\n"
     ]
    }
   ],
   "source": [
    "A"
   ]
  },
  {
   "cell_type": "code",
   "execution_count": 54,
   "metadata": {},
   "outputs": [
    {
     "name": "stdout",
     "output_type": "stream",
     "text": [
      "\n",
      "D =\n",
      "\n",
      "    0.9411\n",
      "    2.0308\n",
      "    2.7670\n",
      "    4.0184\n",
      "    4.9665\n",
      "\n"
     ]
    }
   ],
   "source": [
    "D"
   ]
  },
  {
   "cell_type": "code",
   "execution_count": 61,
   "metadata": {},
   "outputs": [
    {
     "name": "stdout",
     "output_type": "stream",
     "text": [
      "\n",
      "z =\n",
      "\n",
      "    0.9065\n",
      "    0.5364\n",
      "    0.4124\n",
      "    0.3039\n",
      "    0.1573\n",
      "\n",
      "\n",
      "ans =\n",
      "\n",
      "   7.1869e-08\n",
      "\n",
      "\n",
      "y =\n",
      "\n",
      "    0.9065\n",
      "    0.5364\n",
      "    0.4124\n",
      "    0.3039\n",
      "    0.1573\n",
      "\n"
     ]
    }
   ],
   "source": [
    "% compute y = D^{-1}(L + U)(b-y)\n",
    "z = LpU*y;  % does y = (L+U)*y\n",
    "z = (b-z)./D % does D^{-1}\n",
    "max(abs(y-z))\n",
    "y = z"
   ]
  },
  {
   "cell_type": "code",
   "execution_count": 62,
   "metadata": {},
   "outputs": [
    {
     "name": "stdout",
     "output_type": "stream",
     "text": [
      "\n",
      "ans =\n",
      "\n",
      "   1.0e-08 *\n",
      "\n",
      "    0.8498\n",
      "    0.4498\n",
      "   -0.5203\n",
      "    0.3607\n",
      "   -0.9263\n",
      "\n"
     ]
    }
   ],
   "source": [
    "A*y-b # should be zero if y were a actual solution"
   ]
  },
  {
   "cell_type": "code",
   "execution_count": 63,
   "metadata": {},
   "outputs": [
    {
     "name": "stdout",
     "output_type": "stream",
     "text": [
      "\n",
      "ans =\n",
      "\n",
      "   1.0e-08 *\n",
      "\n",
      "    0.8953\n",
      "    0.2070\n",
      "   -0.1469\n",
      "    0.1091\n",
      "   -0.2293\n",
      "\n"
     ]
    }
   ],
   "source": [
    "y - (A\\b) # compare y to the \"true\" solution"
   ]
  },
  {
   "cell_type": "code",
   "execution_count": null,
   "metadata": {},
   "outputs": [],
   "source": []
  }
 ],
 "metadata": {
  "kernelspec": {
   "display_name": "Matlab",
   "language": "matlab",
   "name": "matlab"
  },
  "language_info": {
   "codemirror_mode": "octave",
   "file_extension": ".m",
   "help_links": [
    {
     "text": "MetaKernel Magics",
     "url": "https://metakernel.readthedocs.io/en/latest/source/README.html"
    }
   ],
   "mimetype": "text/x-octave",
   "name": "matlab",
   "version": "0.16.11"
  }
 },
 "nbformat": 4,
 "nbformat_minor": 2
}
