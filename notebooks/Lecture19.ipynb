{
 "cells": [
  {
   "cell_type": "markdown",
   "metadata": {},
   "source": [
    "# Lecture 19\n",
    "\n",
    "\n",
    "### Olver and Shakiban 4.3 --- using a different method\n",
    "\n",
    "Lecture notes are available [here](https://drive.google.com/file/d/12DLtoVZjAiF5vnhyuX_Y44W21_QmBCcY/view?usp=sharing)."
   ]
  },
  {
   "cell_type": "markdown",
   "metadata": {},
   "source": [
    "## Using Householder reflections to put A in upper-triangular form"
   ]
  },
  {
   "cell_type": "code",
   "execution_count": 1,
   "metadata": {},
   "outputs": [
    {
     "name": "stdout",
     "output_type": "stream",
     "text": [
      "\n",
      "R =\n",
      "\n",
      "    0.5377   -1.3077   -1.3499\n",
      "    1.8339   -0.4336    3.0349\n",
      "   -2.2588    0.3426    0.7254\n",
      "    0.8622    3.5784   -0.0631\n",
      "    0.3188    2.7694    0.7147\n",
      "\n"
     ]
    }
   ],
   "source": [
    "A = randn(5,3); R = A"
   ]
  },
  {
   "cell_type": "markdown",
   "metadata": {},
   "source": [
    "$$ H = I - 2 \\frac{ \\vec w \\vec w^T }{\\|\\vec w\\|_2^2}.$$\n",
    "\n",
    "$$ H = I - 2 \\vec v \\vec v^T, \\quad \\vec v = \\frac{\\vec w}{\\|\\vec w\\|_2}.$$"
   ]
  },
  {
   "cell_type": "code",
   "execution_count": 2,
   "metadata": {},
   "outputs": [
    {
     "name": "stdout",
     "output_type": "stream",
     "text": [
      "\n",
      "R =\n",
      "\n",
      "   -3.0983   -0.5473   -1.0892\n",
      "    0.0000   -0.0501    3.1664\n",
      "   -0.0000   -0.1297    0.5635\n",
      "    0.0000    3.7587   -0.0012\n",
      "    0.0000    2.8361    0.7376\n",
      "\n"
     ]
    }
   ],
   "source": [
    "x = R(1:end,1);\n",
    "w = x; w(1) = x(1) + sign(x(1))*norm(x);\n",
    "w = w/norm(w);\n",
    "R(1:end,1:end) = R(1:end,1:end) - 2*w*(w'*R(1:end,1:end)) % using (1:end,1:end) is unnecessary\n",
    "% but it helps to see the pattern"
   ]
  },
  {
   "cell_type": "code",
   "execution_count": 3,
   "metadata": {},
   "outputs": [
    {
     "name": "stdout",
     "output_type": "stream",
     "text": [
      "\n",
      "R =\n",
      "\n",
      "   -3.0983   -0.5473   -1.0892\n",
      "    0.0000    4.7107    0.3939\n",
      "   -0.0000         0    0.4879\n",
      "    0.0000   -0.0000    2.1877\n",
      "    0.0000   -0.0000    2.3892\n",
      "\n"
     ]
    }
   ],
   "source": [
    "x = R(2:end,2);\n",
    "w = x; w(1) = x(1) + sign(x(1))*norm(x);\n",
    "w = w/norm(w);\n",
    "R(2:end,2:end) = R(2:end,2:end) - 2*w*(w'*R(2:end,2:end))"
   ]
  },
  {
   "cell_type": "code",
   "execution_count": 4,
   "metadata": {},
   "outputs": [
    {
     "name": "stdout",
     "output_type": "stream",
     "text": [
      "\n",
      "R =\n",
      "\n",
      "   -3.0983   -0.5473   -1.0892\n",
      "    0.0000    4.7107    0.3939\n",
      "   -0.0000         0   -3.2760\n",
      "    0.0000   -0.0000         0\n",
      "    0.0000   -0.0000         0\n",
      "\n"
     ]
    }
   ],
   "source": [
    "x = R(3:end,3);\n",
    "w = x; w(1) = x(1) + sign(x(1))*norm(x);\n",
    "w = w/norm(w);\n",
    "R(3:end,3:end) = R(3:end,3:end) - 2*w*(w'*R(3:end,3:end))"
   ]
  },
  {
   "cell_type": "markdown",
   "metadata": {},
   "source": [
    "At the end of this, $A$ is in upper-triangular form.  This is the $R$ in the $A = QR$ factorization.  That is, we've found a way to apply $Q^T = Q^{-1}$ to $A$ to get $Q^TA = R$.  To understand how to construct $Q$ we have think about what we are doing at each stage.\n",
    "\n",
    "Start with $Q_0 = I$ and $R_0 = A$.  Then\n",
    "\n",
    "$$A = Q_0 R_0 = Q_0 H_1^T H_1 R_0$$\n",
    "\n",
    "where $H_1$ is the Householder reflection constructed based on the first column of $R_0$.  And, we have used that $H_1$ is an orthogonal matrix, $H_1^T H_1 = I$.  But let's look at $H_1$ closer:"
   ]
  },
  {
   "cell_type": "code",
   "execution_count": 5,
   "metadata": {},
   "outputs": [
    {
     "name": "stdout",
     "output_type": "stream",
     "text": [
      "\n",
      "H1 =\n",
      "\n",
      "   -0.1735   -0.5919    0.7291   -0.2783   -0.1029\n",
      "   -0.5919    0.7015    0.3677   -0.1404   -0.0519\n",
      "    0.7291    0.3677    0.5471    0.1729    0.0639\n",
      "   -0.2783   -0.1404    0.1729    0.9340   -0.0244\n",
      "   -0.1029   -0.0519    0.0639   -0.0244    0.9910\n",
      "\n"
     ]
    }
   ],
   "source": [
    "R = A;\n",
    "x = R(1:end,1);\n",
    "w = x; w(1) = x(1) + sign(x(1))*norm(x);\n",
    "w = w/norm(w);\n",
    "H1 = eye(length(x)) - 2*w*w'"
   ]
  },
  {
   "cell_type": "code",
   "execution_count": 6,
   "metadata": {},
   "outputs": [
    {
     "name": "stdout",
     "output_type": "stream",
     "text": [
      "\n",
      "ans =\n",
      "\n",
      "     0     0     0     0     0\n",
      "     0     0     0     0     0\n",
      "     0     0     0     0     0\n",
      "     0     0     0     0     0\n",
      "     0     0     0     0     0\n",
      "\n"
     ]
    }
   ],
   "source": [
    "H1' - H1 % H1 transpose - H1"
   ]
  },
  {
   "cell_type": "markdown",
   "metadata": {},
   "source": [
    "We see that $H_1 = H_1^T$ is symmetric, so that $H_1 = H_1^{-1}$.  This is why these are called reflections.  If you reflect, and reflect again, you should be back where you started.\n",
    "\n",
    "So, \n",
    "\n",
    "$$A = Q_0 R_0 = Q_0 H_1^T H_1 R_0 = (Q_0 H_1) (H_1 R_0)$$.\n",
    "\n",
    "As before, the following computes $H_1 R_0$ to get $R_1$:"
   ]
  },
  {
   "cell_type": "code",
   "execution_count": 7,
   "metadata": {},
   "outputs": [
    {
     "name": "stdout",
     "output_type": "stream",
     "text": [
      "\n",
      "R =\n",
      "\n",
      "   -3.0983   -0.5473   -1.0892\n",
      "    0.0000   -0.0501    3.1664\n",
      "   -0.0000   -0.1297    0.5635\n",
      "    0.0000    3.7587   -0.0012\n",
      "    0.0000    2.8361    0.7376\n",
      "\n"
     ]
    }
   ],
   "source": [
    "R = A;\n",
    "x = R(1:end,1);\n",
    "w = x; w(1) = x(1) + sign(x(1))*norm(x);\n",
    "w = w/norm(w);\n",
    "R(1:end,1:end) = R(1:end,1:end) - 2*w*(w'*R(1:end,1:end)) % Applies H1 to R"
   ]
  },
  {
   "cell_type": "markdown",
   "metadata": {},
   "source": [
    "To compute $Q_0 H_1$, we note that $Q_0$ is the identity matrix:"
   ]
  },
  {
   "cell_type": "code",
   "execution_count": 8,
   "metadata": {},
   "outputs": [
    {
     "name": "stdout",
     "output_type": "stream",
     "text": [
      "\n",
      "Q =\n",
      "\n",
      "   -0.1735   -0.5919    0.7291   -0.2783   -0.1029\n",
      "   -0.5919    0.7015    0.3677   -0.1404   -0.0519\n",
      "    0.7291    0.3677    0.5471    0.1729    0.0639\n",
      "   -0.2783   -0.1404    0.1729    0.9340   -0.0244\n",
      "   -0.1029   -0.0519    0.0639   -0.0244    0.9910\n",
      "\n"
     ]
    }
   ],
   "source": [
    "Q = eye(size(A,1));\n",
    "Q = Q(:,1:end) - 2*(Q(:,1:end)*w)*w' % Q appears on the left of w, w'\n",
    "% because Q0 appears to the left of H1"
   ]
  },
  {
   "cell_type": "markdown",
   "metadata": {},
   "source": [
    "And repeat:"
   ]
  },
  {
   "cell_type": "code",
   "execution_count": 9,
   "metadata": {},
   "outputs": [
    {
     "name": "stdout",
     "output_type": "stream",
     "text": [
      "\n",
      "R =\n",
      "\n",
      "   -3.0983   -0.5473   -1.0892\n",
      "    0.0000    4.7107    0.3939\n",
      "   -0.0000         0    0.4879\n",
      "    0.0000   -0.0000    2.1877\n",
      "    0.0000   -0.0000    2.3892\n",
      "\n",
      "\n",
      "Q =\n",
      "\n",
      "   -0.1735   -0.2978    0.7371   -0.5105   -0.2781\n",
      "   -0.5919   -0.1608    0.3442    0.5404    0.4618\n",
      "    0.7291    0.1574    0.5413    0.3389    0.1892\n",
      "   -0.2783    0.7273    0.1965    0.2490   -0.5413\n",
      "   -0.1029    0.5760    0.0810   -0.5201    0.6170\n",
      "\n"
     ]
    }
   ],
   "source": [
    "x = R(2:end,2);\n",
    "w = x; w(1) = x(1) + sign(x(1))*norm(x);\n",
    "w = w/norm(w);\n",
    "R(2:end,2:end) = R(2:end,2:end) - 2*w*(w'*R(2:end,2:end))\n",
    "% You can do R(2:end,:) = R(2:end,:) - 2*w*(w'*R(2:end,:))\n",
    "% but we know that most of the first column of R(2:end,:) is zero\n",
    "% so it makes sense to exclude it from the computation\n",
    "% But we cannot do that with the rows of Q:\n",
    "Q(:,2:end) = Q(:,2:end) - 2*(Q(:,2:end)*w)*w'"
   ]
  },
  {
   "cell_type": "code",
   "execution_count": 10,
   "metadata": {},
   "outputs": [
    {
     "name": "stdout",
     "output_type": "stream",
     "text": [
      "\n",
      "R =\n",
      "\n",
      "   -3.0983   -0.5473   -1.0892\n",
      "    0.0000    4.7107    0.3939\n",
      "   -0.0000         0   -3.2760\n",
      "    0.0000   -0.0000         0\n",
      "    0.0000   -0.0000         0\n",
      "\n",
      "\n",
      "Q =\n",
      "\n",
      "   -0.1735   -0.2978    0.4339   -0.6867   -0.4705\n",
      "   -0.5919   -0.1608   -0.7489   -0.0949   -0.2321\n",
      "    0.7291    0.1574   -0.4449   -0.2343   -0.4369\n",
      "   -0.2783    0.7273    0.1992    0.2506   -0.5396\n",
      "   -0.1029    0.5760   -0.1147   -0.6339    0.4927\n",
      "\n"
     ]
    }
   ],
   "source": [
    "x = R(3:end,3);\n",
    "w = x; w(1) = x(1) + sign(x(1))*norm(x);\n",
    "w = w/norm(w);\n",
    "R(3:end,3:end) = R(3:end,3:end) - 2*w*(w'*R(3:end,3:end))\n",
    "Q(:,3:end) = Q(:,3:end) - 2*(Q(:,3:end)*w)*w'"
   ]
  },
  {
   "cell_type": "markdown",
   "metadata": {},
   "source": [
    "Verify the properties:"
   ]
  },
  {
   "cell_type": "code",
   "execution_count": 11,
   "metadata": {},
   "outputs": [
    {
     "name": "stdout",
     "output_type": "stream",
     "text": [
      "\n",
      "ans =\n",
      "\n",
      "   1.0e-14 *\n",
      "\n",
      "    0.1443   -0.1110    0.0444\n",
      "    0.0888    0.0777    0.0444\n",
      "   -0.0888   -0.0167    0.0888\n",
      "    0.0111   -0.1776    0.0444\n",
      "   -0.0111   -0.1332    0.0888\n",
      "\n"
     ]
    }
   ],
   "source": [
    "A - Q*R % good factorization"
   ]
  },
  {
   "cell_type": "code",
   "execution_count": 12,
   "metadata": {},
   "outputs": [
    {
     "name": "stdout",
     "output_type": "stream",
     "text": [
      "\n",
      "ans =\n",
      "\n",
      "    1.0000   -0.0000    0.0000   -0.0000   -0.0000\n",
      "   -0.0000    1.0000    0.0000   -0.0000         0\n",
      "    0.0000    0.0000    1.0000   -0.0000   -0.0000\n",
      "   -0.0000   -0.0000   -0.0000    1.0000   -0.0000\n",
      "   -0.0000         0   -0.0000   -0.0000    1.0000\n",
      "\n"
     ]
    }
   ],
   "source": [
    "Q'*Q % Q is indeed orthogonal"
   ]
  },
  {
   "cell_type": "code",
   "execution_count": 13,
   "metadata": {},
   "outputs": [
    {
     "name": "stdout",
     "output_type": "stream",
     "text": [
      "\n",
      "ans =\n",
      "\n",
      "    1.0000   -0.0000    0.0000   -0.0000    0.0000\n",
      "   -0.0000    1.0000   -0.0000   -0.0000   -0.0000\n",
      "    0.0000   -0.0000    1.0000   -0.0000   -0.0000\n",
      "   -0.0000   -0.0000   -0.0000    1.0000    0.0000\n",
      "    0.0000   -0.0000   -0.0000    0.0000    1.0000\n",
      "\n"
     ]
    }
   ],
   "source": [
    "Q*Q'"
   ]
  },
  {
   "cell_type": "markdown",
   "metadata": {},
   "source": [
    "## Solving a least-squares problem"
   ]
  },
  {
   "cell_type": "markdown",
   "metadata": {},
   "source": [
    "Find $\\vec x$ that minimized\n",
    "\n",
    "$$ \\mathcal L(\\vec y) = \\| A \\vec y - \\vec b\\|_2^2. $$"
   ]
  },
  {
   "cell_type": "code",
   "execution_count": 14,
   "metadata": {},
   "outputs": [],
   "source": [
    "A = randn(5,3);  b = ones(5,1);"
   ]
  },
  {
   "cell_type": "markdown",
   "metadata": {},
   "source": [
    "### By normal equations:"
   ]
  },
  {
   "cell_type": "code",
   "execution_count": 15,
   "metadata": {},
   "outputs": [
    {
     "name": "stdout",
     "output_type": "stream",
     "text": [
      "\n",
      "bn =\n",
      "\n",
      "    3.9868\n",
      "    2.3004\n",
      "    0.9647\n",
      "\n"
     ]
    }
   ],
   "source": [
    "An = A'*A;\n",
    "bn = A'*b"
   ]
  },
  {
   "cell_type": "code",
   "execution_count": 16,
   "metadata": {},
   "outputs": [
    {
     "name": "stdout",
     "output_type": "stream",
     "text": [
      "\n",
      "x0 =\n",
      "\n",
      "    1.1033\n",
      "   -0.3527\n",
      "    1.0275\n",
      "\n",
      "\n",
      "ans =\n",
      "\n",
      "    0.6490\n",
      "\n"
     ]
    }
   ],
   "source": [
    "x0 = An\\bn  % Solves (A'*A)x = A'* b, the normal equations\n",
    "norm(A*x0-b)  % residual"
   ]
  },
  {
   "cell_type": "code",
   "execution_count": 17,
   "metadata": {},
   "outputs": [
    {
     "name": "stdout",
     "output_type": "stream",
     "text": [
      "\n",
      "R =\n",
      "\n",
      "    2.5041    1.6256   -0.5815    1.5921\n",
      "   -0.0000   -1.1638    0.6528    1.0271\n",
      "    0.0000    0.1926    0.5853    0.6744\n",
      "    0.0000    1.1340    1.1345    0.6920\n",
      "    0.0000   -0.0102    0.0582    0.6902\n",
      "\n"
     ]
    }
   ],
   "source": [
    "R = [A,b];\n",
    "x = R(1:end,1);\n",
    "w = x; w(1) = x(1) + sign(x(1))*norm(x);\n",
    "w = w/norm(w);\n",
    "R(1:end,1:end) = R(1:end,1:end) - 2*w*(w'*R(1:end,1:end)) % R1"
   ]
  },
  {
   "cell_type": "code",
   "execution_count": 18,
   "metadata": {},
   "outputs": [
    {
     "name": "stdout",
     "output_type": "stream",
     "text": [
      "\n",
      "R =\n",
      "\n",
      "    2.5041    1.6256   -0.5815    1.5921\n",
      "   -0.0000    1.6363    0.3904   -0.1759\n",
      "    0.0000         0    0.6033    0.7571\n",
      "    0.0000         0    1.2407    1.1792\n",
      "    0.0000         0    0.0572    0.6858\n",
      "\n"
     ]
    }
   ],
   "source": [
    "x = R(2:end,2);\n",
    "w = x; w(1) = x(1) + sign(x(1))*norm(x);\n",
    "w = w/norm(w);\n",
    "R(2:end,2:end) = R(2:end,2:end) - 2*w*(w'*R(2:end,2:end)) % R1"
   ]
  },
  {
   "cell_type": "code",
   "execution_count": 19,
   "metadata": {},
   "outputs": [
    {
     "name": "stdout",
     "output_type": "stream",
     "text": [
      "\n",
      "R =\n",
      "\n",
      "    2.5041    1.6256   -0.5815    1.5921\n",
      "   -0.0000    1.6363    0.3904   -0.1759\n",
      "    0.0000         0   -1.3808   -1.4188\n",
      "    0.0000         0   -0.0000   -0.1814\n",
      "    0.0000         0         0    0.6231\n",
      "\n"
     ]
    }
   ],
   "source": [
    "x = R(3:end,3);\n",
    "w = x; w(1) = x(1) + sign(x(1))*norm(x);\n",
    "w = w/norm(w);\n",
    "R(3:end,3:end) = R(3:end,3:end) - 2*w*(w'*R(3:end,3:end))"
   ]
  },
  {
   "cell_type": "code",
   "execution_count": 20,
   "metadata": {},
   "outputs": [
    {
     "name": "stdout",
     "output_type": "stream",
     "text": [
      "\n",
      "R =\n",
      "\n",
      "    2.5041    1.6256   -0.5815    1.5921\n",
      "   -0.0000    1.6363    0.3904   -0.1759\n",
      "    0.0000         0   -1.3808   -1.4188\n",
      "    0.0000         0   -0.0000    0.6490\n",
      "    0.0000         0         0         0\n",
      "\n"
     ]
    }
   ],
   "source": [
    "x = R(4:end,4);\n",
    "w = x; w(1) = x(1) + sign(x(1))*norm(x);\n",
    "w = w/norm(w);\n",
    "R(4:end,4:end) = R(4:end,4:end) - 2*w*(w'*R(4:end,4:end))"
   ]
  },
  {
   "cell_type": "code",
   "execution_count": 21,
   "metadata": {},
   "outputs": [
    {
     "name": "stdout",
     "output_type": "stream",
     "text": [
      "\n",
      "x =\n",
      "\n",
      "    1.1033\n",
      "   -0.3527\n",
      "    1.0275\n",
      "\n",
      "\n",
      "x0 =\n",
      "\n",
      "    1.1033\n",
      "   -0.3527\n",
      "    1.0275\n",
      "\n"
     ]
    }
   ],
   "source": [
    "x = Backsub(R(1:3,:))\n",
    "x0"
   ]
  },
  {
   "cell_type": "code",
   "execution_count": 22,
   "metadata": {},
   "outputs": [
    {
     "name": "stdout",
     "output_type": "stream",
     "text": [
      "\n",
      "ans =\n",
      "\n",
      "   1.0e-15 *\n",
      "\n",
      "   -0.2220\n",
      "    0.7772\n",
      "   -0.4441\n",
      "\n"
     ]
    }
   ],
   "source": [
    "x-x0"
   ]
  },
  {
   "cell_type": "code",
   "execution_count": 23,
   "metadata": {},
   "outputs": [
    {
     "name": "stdout",
     "output_type": "stream",
     "text": [
      "\n",
      "ans =\n",
      "\n",
      "    0.6490\n",
      "\n",
      "\n",
      "ans =\n",
      "\n",
      "    0.6490\n",
      "\n"
     ]
    }
   ],
   "source": [
    "abs(R(4,4))\n",
    "norm(A*x0-b)"
   ]
  },
  {
   "cell_type": "code",
   "execution_count": null,
   "metadata": {},
   "outputs": [],
   "source": []
  },
  {
   "cell_type": "code",
   "execution_count": null,
   "metadata": {},
   "outputs": [],
   "source": []
  }
 ],
 "metadata": {
  "kernelspec": {
   "display_name": "Matlab",
   "language": "matlab",
   "name": "matlab"
  },
  "language_info": {
   "codemirror_mode": "octave",
   "file_extension": ".m",
   "help_links": [
    {
     "text": "MetaKernel Magics",
     "url": "https://metakernel.readthedocs.io/en/latest/source/README.html"
    }
   ],
   "mimetype": "text/x-octave",
   "name": "matlab",
   "version": "0.16.11"
  }
 },
 "nbformat": 4,
 "nbformat_minor": 2
}
