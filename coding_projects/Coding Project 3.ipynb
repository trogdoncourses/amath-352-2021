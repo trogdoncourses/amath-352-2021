{
 "cells": [
  {
   "cell_type": "markdown",
   "metadata": {},
   "source": [
    "# Coding Project 2\n",
    "\n",
    "### Due February 5 at 11:59pm"
   ]
  },
  {
   "cell_type": "markdown",
   "metadata": {},
   "source": [
    "## Task 1\n",
    "### $PA = LU$ factorization\n",
    "\n",
    "Implement the following pseudo code in MATLAB"
   ]
  },
  {
   "cell_type": "markdown",
   "metadata": {},
   "source": [
    "```\n",
    "INPUT: A is an n x m matrix, m >= n\n",
    "OUTPUT: The PA = LU factorization stored in one matrix and one vector\n",
    "\n",
    "STEP 1: Set P = (1:n)', set M = A\n",
    "STEP 2: For i = 1,2,...,n-1 do STEPS 3-6 \n",
    "  STEP 3: Find k so that abs(M(k,i)) >= abs(M(l,i)) for l = i,i+1,...,n\n",
    "  STEP 4: Interchange rows i and rows k of M and entries i and k of P\n",
    "  STEP 5: If M(i,i) = 0\n",
    "       OUTPUT(\"Matrix is rank deficient\")\n",
    "  STEP 6: For j = i+1,i+2,...,n do STEPS 7-9\n",
    "     STEP 7: Set  a = M(j,i)/M(i,i)\n",
    "     STEP 8: Set  M(j,i:end) = M(j,i:end) - a*M(i,i:end)\n",
    "     STEP 9: Set  M(j,i) = a\n",
    "STEP 10: OUTPUT([P,M]); STOP.\n",
    "```"
   ]
  },
  {
   "cell_type": "markdown",
   "metadata": {},
   "source": [
    "Again, apply it to the matrix `A` where\n",
    "\n",
    "```\n",
    "r = RandStream('mt19937ar','Seed',1234);\n",
    "A = r.randn(6,6);\n",
    "```\n",
    "At the end of STEP 6, for each $i$, you have a matrix $[P^{(i)},A^{(i)}]$ Construct the matrix\n",
    "$$\n",
    "\\begin{bmatrix} [P^{(1)},A^{(1)}] \\\\ [P^{(2)},A^{(2)}] \\\\ \\vdots \\\\ [P^{(n-1)},A^{(n-1)}]\\end{bmatrix}\n",
    "$$\n",
    "and save it to the variable `T1`.  You will have a $30 \\times 7$ output matrix."
   ]
  },
  {
   "cell_type": "code",
   "execution_count": 10,
   "metadata": {},
   "outputs": [
    {
     "name": "stdout",
     "output_type": "stream",
     "text": [
      "\n",
      "T1 =\n",
      "\n",
      "    5.0000    1.3170   -0.1067    0.0089    1.1732    1.2253   -0.6968\n",
      "    2.0000    0.4101    1.3721    0.9181    0.0864    0.7300   -0.8717\n",
      "    3.0000   -0.1645    0.8163   -0.1959   -2.6267   -0.3412    0.4878\n",
      "    4.0000    0.9028    0.7008    0.0675   -1.2728   -0.9118    1.1722\n",
      "    1.0000   -0.7193   -0.5216    0.4635    0.3014    0.5516   -0.1693\n",
      "    6.0000   -0.3080   -0.0298    0.8416    0.8017   -0.0091    1.6550\n",
      "    5.0000    1.3170   -0.1067    0.0089    1.1732    1.2253   -0.6968\n",
      "    2.0000    0.4101    1.3721    0.9181    0.0864    0.7300   -0.8717\n",
      "    3.0000   -0.1645    0.5949   -0.7420   -2.6781   -0.7754    1.0064\n",
      "    4.0000    0.9028    0.5107   -0.4014   -1.3169   -1.2846    1.6174\n",
      "    1.0000   -0.7193   -0.3802    0.8125    0.3342    0.8291   -0.5007\n",
      "    6.0000   -0.3080   -0.0217    0.8615    0.8036    0.0068    1.6361\n",
      "    5.0000    1.3170   -0.1067    0.0089    1.1732    1.2253   -0.6968\n",
      "    2.0000    0.4101    1.3721    0.9181    0.0864    0.7300   -0.8717\n",
      "    6.0000   -0.3080   -0.0217    0.8615    0.8036    0.0068    1.6361\n",
      "    4.0000    0.9028    0.5107   -0.4659   -0.9425   -1.2815    2.3796\n",
      "    1.0000   -0.7193   -0.3802    0.9431   -0.4236    0.8227   -2.0437\n",
      "    3.0000   -0.1645    0.5949   -0.8613   -1.9860   -0.7696    2.4155\n",
      "    5.0000    1.3170   -0.1067    0.0089    1.1732    1.2253   -0.6968\n",
      "    2.0000    0.4101    1.3721    0.9181    0.0864    0.7300   -0.8717\n",
      "    6.0000   -0.3080   -0.0217    0.8615    0.8036    0.0068    1.6361\n",
      "    3.0000   -0.1645    0.5949   -0.8613   -1.9860   -0.7696    2.4155\n",
      "    1.0000   -0.7193   -0.3802    0.9431    0.2133    0.9869   -2.5589\n",
      "    4.0000    0.9028    0.5107   -0.4659    0.4746   -0.9162    1.2332\n",
      "    5.0000    1.3170   -0.1067    0.0089    1.1732    1.2253   -0.6968\n",
      "    2.0000    0.4101    1.3721    0.9181    0.0864    0.7300   -0.8717\n",
      "    6.0000   -0.3080   -0.0217    0.8615    0.8036    0.0068    1.6361\n",
      "    3.0000   -0.1645    0.5949   -0.8613   -1.9860   -0.7696    2.4155\n",
      "    1.0000   -0.7193   -0.3802    0.9431    0.2133    0.9869   -2.5589\n",
      "    4.0000    0.9028    0.5107   -0.4659    0.4746   -0.9284   -1.1425\n",
      "\n"
     ]
    }
   ],
   "source": [
    "T1"
   ]
  },
  {
   "cell_type": "markdown",
   "metadata": {},
   "source": [
    "## Task 2\n",
    "\n",
    "### Using the $PA = LU$ factorization"
   ]
  },
  {
   "cell_type": "markdown",
   "metadata": {},
   "source": [
    "Download the files `Backsub.m`, `Forsub.m` and `ApplyP.m` from the solutions [link](https://faculty.washington.edu/trogdon/352/solutions/).  Make sure they are in your working directory.  These files will be on Gradescope so no need to upload them when you submit.\n",
    "\n",
    "* Given a permumation `p` --- i.e. a column vector consiting of some ordering of the integers 1 to `n` without repetition, the function\n",
    "`applyP(p,x)` applies the perumation matrix associated to `P` to the vector or matrix `x`, assuming it is of the correct size.\n",
    "* Given a special lower-triangular matrix (square!) `L`, the command `Forsub([L,b])` will solve the linear system `L*x=b`.\n",
    "* Given an upper-triangular matrix `U`, the command `Backsub([U,c])` will solve the linear system `U*x=c`.\n",
    "\n",
    "Suppose `A` is the same as in Task 1 and `b` is given by\n",
    "```\n",
    "r = RandStream('mt19937ar','Seed',1234);\n",
    "A = r.randn(6,6);  % Same matrix as in Task 1\n",
    "b = [1;0;1;0;1;0];\n",
    "```\n",
    "We will use the computations from Task 1 to solve `A*x=b`.  Download the final output `[p,M]` of Task 1 using\n",
    "```\n",
    "url = 'https://raw.githubusercontent.com/trogdoncourses/amath-352-2021/main/coding_projects/O.csv';\n",
    "filename = 'O.csv';\n",
    "outfilename = websave(filename,url);\n",
    "O = table2array(readtable(filename));\n",
    "```\n",
    "After you run this command you will have a matrix `O = [p,M]` defined that contains the final output of Task 1.  Recall that $O$ encodes the entire $PA = LU$ factorization of `A`.  Use this and the `.m` files that you have downloaded to compute the three vectors:\n",
    "\n",
    "$$ \\vec z = P \\vec b, \\quad \\vec y = L^{-1} \\vec z, \\quad \\vec x = U^{-1} \\vec y. $$\n",
    "\n",
    "Save the matrix $\\begin{bmatrix} \\vec z & \\vec y & \\vec x \\end{bmatrix}$ to the variable `T2`"
   ]
  },
  {
   "cell_type": "markdown",
   "metadata": {},
   "source": [
    "## Task 3\n",
    "\n",
    "### Matrix iteration\n",
    "\n",
    "Consider the matrix `A` and vector `b`\n",
    "```\n",
    "A = [1.1,.2,-.2,.5;\n",
    "     .2,.9,.5,.3;\n",
    "     .1,0.,1.,.4;\n",
    "     .1,.1,.1,1.2];\n",
    "b = [1;0;1;0];\n",
    "```\n",
    "Implement the following iteration to approximate the solution of `A*x = b`:\n",
    "```\n",
    "INPUT: A n x n matrix, b n x 1 vector, T a positive integer\n",
    "OUTPUT: An approximation y of x after T iterations\n",
    "\n",
    "STEP 1: Set y = zeros(n,1)\n",
    "STEP 2: Set M = eye(n) - A\n",
    "STEP 2: For i = 1,2,...,T do STEP 3\n",
    "   STEP 3: Set z = M*y + b\n",
    "   STEP 4: Check z - y\n",
    "   STEP 5: Set y = z\n",
    "STEP 4: OUTPUT(y)\n",
    "```\n",
    "What is the smallest value of `T` such that the largest entry of the absolute value of the vector `z - y` is less than $\\epsilon =$ `1e-2`?  Call this `T_2` and let `E_2` be the largest entry in absolute value of this vector.\n",
    "\n",
    "Repeat this for $\\epsilon =$ `1e-4`, $\\epsilon =$ `1e-6`.  Giving `T_4`,`E_4` and `T_6`, `E_6`, respectively.\n",
    "\n",
    "Save the matrix\n",
    "```\n",
    " [T_2, E_2;\n",
    "  T_4, E_4;\n",
    "  T_6, E_6];\n",
    "```\n",
    "to the variable `T3`"
   ]
  },
  {
   "cell_type": "code",
   "execution_count": null,
   "metadata": {},
   "outputs": [],
   "source": []
  }
 ],
 "metadata": {
  "kernelspec": {
   "display_name": "Matlab",
   "language": "matlab",
   "name": "matlab"
  },
  "language_info": {
   "codemirror_mode": "octave",
   "file_extension": ".m",
   "help_links": [
    {
     "text": "MetaKernel Magics",
     "url": "https://metakernel.readthedocs.io/en/latest/source/README.html"
    }
   ],
   "mimetype": "text/x-octave",
   "name": "matlab",
   "version": "0.16.11"
  }
 },
 "nbformat": 4,
 "nbformat_minor": 2
}
