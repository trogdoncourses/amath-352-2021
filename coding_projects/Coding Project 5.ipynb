{
 "cells": [
  {
   "cell_type": "markdown",
   "metadata": {},
   "source": [
    "# Coding Project 5\n",
    "\n",
    "### Due March 5 at 11:59pm"
   ]
  },
  {
   "cell_type": "markdown",
   "metadata": {},
   "source": [
    "## Task 1\n",
    "### Houeholder QR algorithm\n",
    "\n",
    "Consider the matrix `A` and vector `b` given by\n",
    "```\n",
    "r = RandStream('mt19937ar','Seed',1234);\n",
    "A = r.randn(10,6);\n",
    "b = ones(10,1);\n",
    "```\n",
    "\n",
    "Implement the Householder QR algorithm to compute the QR factorization of the matrix `A`\n",
    "```\n",
    "INPUT: A m x n matrix, b m x 1 vector\n",
    "OUTPUT: Q orthogonal, R upper triangular, such that Q*R = A\n",
    "\n",
    "STEP 1: Set Q = eye(m), R = A\n",
    "STEP 2: For i = 1:n do STEPS 3-7\n",
    "   STEP 3: Set w = R(i:end,i)\n",
    "   STEP 4: Set w(1) = w(1) + sign(w(1))*norm(w)\n",
    "   STEP 5: Set w = w/norm(w)\n",
    "   STEP 6: Set R(i:end,i:end) = R(i:end,i:end) - 2*w*(w'*R(i:end,i:end))\n",
    "   STEP 7: Set Q(:,i:end) = Q(:,i:end) - 2*(Q(:,i:end)*w)*w'\n",
    "OUTPUT(Q,R)\n",
    "```\n",
    "At the end of STEP 7, for each `i` you have a matrix $R^{(i)}$.  Save the matrix\n",
    "$$ \\begin{bmatrix} R^{(1)} \\\\ R^{(2)} \\\\ \\vdots \\\\ R^{(n)} \\end{bmatrix} $$\n",
    "to the variable `T1`.\n",
    "\n",
    "For the choice of $A$ and $\\vec b$ above save the value of\n",
    "$$\n",
    "\\min_{\\vec y \\in \\mathbb R^n} \\|A \\vec y - \\vec b\\|_2\n",
    "$$\n",
    "to the variable `T1res`."
   ]
  },
  {
   "cell_type": "markdown",
   "metadata": {},
   "source": [
    "## Task 2\n",
    "\n",
    "### Solving the normal equations for an over-determined system\n",
    "\n",
    "Consider the matrix `A` and vector `b` given by\n",
    "```\n",
    "r = RandStream('mt19937ar','Seed',1234);\n",
    "A = r.randn(10,6);\n",
    "b = r.randn(10,1);\n",
    "```\n",
    "\n",
    "Find the vector $\\vec x$ such that\n",
    "$$\n",
    "\\|A \\vec x - \\vec b\\|_2=\\min_{\\vec y \\in \\mathbb R^n} \\|A \\vec y - \\vec b\\|_2.\n",
    "$$\n",
    "Save it to the variable `T2`."
   ]
  },
  {
   "cell_type": "markdown",
   "metadata": {},
   "source": [
    "## Task 3\n",
    "\n",
    "### Gradient descent\n",
    "\n",
    "Implement the gradient descent algorithm:\n",
    "\n",
    "```\n",
    "INPUT: An m x n matrix A, a m x 1 vector b, epsilon\n",
    "OUTPUT: An approximation y to the solution of the normal equations\n",
    "\n",
    "STEP 1: Set x to be a vector of all zeros\n",
    "STEP 2: For i = 1,2,3,4,... do steps 3-6\n",
    "    STEP 2: Set y = A'*(b - A*y); v = A*y\n",
    "    STEP 4: Set step = (y'*y)/(v'*v)*y\n",
    "    STEP 5: Set x = x + step\n",
    "    STEP 6: If max(abs(step)) < epsilon do STEP 8\n",
    "STEP 8: OUTPUT(y)\n",
    "```\n",
    "\n",
    "Apply the algorithm to\n",
    "\n",
    "```\n",
    "r = RandStream('mt19937ar','Seed',1234);\n",
    "A = r.randn(30,10);\n",
    "b = r.randn(30,1);\n",
    "```\n",
    "with `epsilon = 1e-8`.  For each iteration, record the $\\infty$-norm of `step` in a row vector.  The length of this row vector should be the number of iterations the method requires.  Save this row vector to the variable `T3`."
   ]
  },
  {
   "cell_type": "markdown",
   "metadata": {},
   "source": [
    "## Task 4\n",
    "\n",
    "### Solving an under-determined  system\n",
    "\n",
    "Consider the matrix `A` and vector `b` given by\n",
    "```\n",
    "r = RandStream('mt19937ar','Seed',1234);\n",
    "A = r.randn(6,10);\n",
    "b = r.randn(6,1);\n",
    "```\n",
    "\n",
    "Find the vector $\\vec x$ such that\n",
    "$$\n",
    "\\|A \\vec x - \\vec b\\|_2^2 + 10^{-16}\\|\\vec x\\|_2^2 =\\min_{\\vec y \\in \\mathbb R^n} (\\|A \\vec y - \\vec b\\|_2^2 + 10^{-16}\\|\\vec y\\|_2^2).\n",
    "$$\n",
    "Save it to the variable `T4`"
   ]
  }
 ],
 "metadata": {
  "kernelspec": {
   "display_name": "Matlab",
   "language": "matlab",
   "name": "matlab"
  },
  "language_info": {
   "codemirror_mode": "octave",
   "file_extension": ".m",
   "help_links": [
    {
     "text": "MetaKernel Magics",
     "url": "https://metakernel.readthedocs.io/en/latest/source/README.html"
    }
   ],
   "mimetype": "text/x-octave",
   "name": "matlab",
   "version": "0.16.11"
  }
 },
 "nbformat": 4,
 "nbformat_minor": 2
}
